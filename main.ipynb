{
 "cells": [
  {
   "cell_type": "markdown",
   "id": "b120f8e7-e065-460a-baf1-ba58127ab3ab",
   "metadata": {},
   "source": [
    "# Studies on multi-controlled Toffoli decomposition"
   ]
  },
  {
   "cell_type": "markdown",
   "id": "915ff1b6-8380-4e34-a099-263c7be53913",
   "metadata": {},
   "source": [
    "This is a solution proposal for Classiq Coding Challenge where the problem is to decompose 14-control qubit toffoli gate into two and single qubit gates using max 5 ancilla qubits. The document has somewhat esseistic style because I tend to think by writing."
   ]
  },
  {
   "cell_type": "markdown",
   "id": "001623f0-0983-4c8e-b5ef-baefdb294444",
   "metadata": {},
   "source": [
    "Because number 14 feels more or less quite arbitrary and it is also quite large, this code calculates a possible decomposition for any given number of control qubits. The idea is heavily based on the [classical book of Niels and Chuang](http://csis.pace.edu/~ctappert/cs837-19spring/QC-textbook.pdf) and the [excellent blog post](https://algassert.com/circuits/2015/06/22/Using-Quantum-Gates-instead-of-Ancilla-Bits.html) by Craig Gidney. Also, the paper [Elementary gates for quantum computation](https://arxiv.org/abs/quant-ph/9503016v1) has been useful. Maybe everyone opens first the classical book of Niels and Chuang. One can find there the following exercise:\n",
    "\n",
    "_**Exercise 4.29: Find a circuit containing $\\mathcal{O}(n^2)$ Toffoli, CNOT and single qubits gates which implements a $C^n(X)$ gate for $n > 3$ using no work qubits.**_\n",
    "\n",
    "This exercise appears to be surprisingly deep and hard. It is also connected to the problem in the competition although it does not include the idea of minimal depth. The [blog post](https://algassert.com/circuits/2015/06/22/Using-Quantum-Gates-instead-of-Ancilla-Bits.html) by Craig Gidney is about this exercise.\n",
    "\n",
    "My own contribution is the explanation in this document and the implementation. I completed the implementation with Pennylane because Amazon Braket supports it better than Qiskit."
   ]
  },
  {
   "cell_type": "markdown",
   "id": "d569b149-8732-4d34-8da2-91ede04f9441",
   "metadata": {},
   "source": [
    "**Table of contents:**\n",
    "\n",
    "1. Solution proposal without ancilla qubits\n",
    "    1. Implementation of a simple function that returns square roots for NOT gate\n",
    "    2. Iteratively decompose using square root gates\n",
    "2. Solution proposal with ancilla qubits i.e. the classical solution\n",
    "    1. Iteratively decompose multi-control toffoli gates\n",
    "3. Use ZH-calculus to optimize T-count\n",
    "    1. Implementation of ZH \n",
    "4. Running the code for 14-qubit case"
   ]
  },
  {
   "cell_type": "code",
   "execution_count": 18,
   "id": "680c1dae-741b-43c5-bbf4-0c4f071b8950",
   "metadata": {},
   "outputs": [],
   "source": [
    "import pennylane as qml\n",
    "from pennylane import numpy as np\n",
    "\n",
    "from qiskit import QuantumCircuit, QuantumRegister"
   ]
  },
  {
   "cell_type": "markdown",
   "id": "ff35a707-e7f5-4d41-bddb-f9e467336fcf",
   "metadata": {},
   "source": [
    "## Solution proposal without ancilla qubits"
   ]
  },
  {
   "cell_type": "markdown",
   "id": "2e84abde-6048-4f3f-b462-8be521ad28e3",
   "metadata": {},
   "source": [
    "### Square roots of NOT gate and finding fundamental decompositions from Niels and Chuang"
   ]
  },
  {
   "cell_type": "markdown",
   "id": "642c8f48-6dec-48c4-be3c-08497c369d33",
   "metadata": {},
   "source": [
    "As Gidney explains in the [blog post](https://algassert.com/circuits/2015/06/22/Using-Quantum-Gates-instead-of-Ancilla-Bits.html), every logical quantum gate has the corresponding square root gate. When we note the fact that diagonal matrices are easy to square and \n",
    "$$\n",
    "Z = \\begin{bmatrix}\n",
    "1 & 0 \\\\\n",
    "0 & -1\n",
    "\\end{bmatrix},\n",
    "$$\n",
    "we obtain that \n",
    "$$\n",
    "\\sqrt[n]{Z} = \\begin{bmatrix}\n",
    "1 & 0 \\\\\n",
    "0 & e^{i\\frac{\\pi}{n}}\n",
    "\\end{bmatrix}.\n",
    "$$\n",
    "\n",
    "When we change the computational basis to Hadamard -basis, taking the square roots become (at least theoretically) easier: $X = HZH$. This is also the reason for Hadamard-gates in the example decomposition in the Classiq's problem description. The $T$-gates and $S$-gates are the certain square roots of $Z$-gate, $T = \\sqrt[4]{Z}$ and $S = \\sqrt[2]{Z}$. So actually $T$ and $S$ gates are just a clever way to hide $X$ gates in the decomposition! Gidney reads Niels and Chuang very carefully and notices the power of the following circuit which corresponds to the Toffoli gate:"
   ]
  },
  {
   "cell_type": "code",
   "execution_count": 38,
   "id": "0cedefa7-0d07-40d6-a66b-9ab68394ee71",
   "metadata": {},
   "outputs": [
    {
     "data": {
      "image/png": "[encoded data removed]",
      "text/plain": [
       "<PIL.Image.Image image mode=RGB size=386x117 at 0x1B8F23AA650>"
      ]
     },
     "execution_count": 38,
     "metadata": {},
     "output_type": "execute_result"
    }
   ],
   "source": [
    "from qiskit.circuit.library.standard_gates import SXGate, SGate, TGate, IGate\n",
    "\n",
    "qr = QuantumRegister(3)\n",
    "circuit = QuantumCircuit(qr)\n",
    "\n",
    "circuit.append(SXGate().control(), [qr[1], qr[2]])\n",
    "circuit.cx(0, 1)\n",
    "circuit.append(SXGate().inverse().control(), [qr[1], qr[2]])\n",
    "circuit.cx(0, 1)\n",
    "circuit.append(SXGate().control(), [qr[0], qr[2]])\n",
    "\n",
    "circuit.draw(output='latex')"
   ]
  },
  {
   "cell_type": "markdown",
   "id": "1707736b-911f-4ce9-a3aa-357d23ecf5c1",
   "metadata": {},
   "source": [
    "This circuit corresponds to the Toffoli case $V = (1-i)(I+iX)/2$ presented in Figure 4.8 in Niels and Chuang. Furthermore we can change the basis to Hadamard. Recall that $H\\sqrt{X}H = \\sqrt{Z} = S$. Thus we can write:"
   ]
  },
  {
   "cell_type": "code",
   "execution_count": 41,
   "id": "a911bf17-3428-4349-89eb-78d6d8616222",
   "metadata": {},
   "outputs": [
    {
     "data": {
      "image/png": "[encoded data removed]",
      "text/plain": [
       "<PIL.Image.Image image mode=RGB size=419x93 at 0x1B8F2380490>"
      ]
     },
     "execution_count": 41,
     "metadata": {},
     "output_type": "execute_result"
    }
   ],
   "source": [
    "qr = QuantumRegister(3)\n",
    "circuit = QuantumCircuit(qr)\n",
    "\n",
    "circuit.h(2)\n",
    "circuit.append(SGate().control(), [qr[1], qr[2]])\n",
    "circuit.cx(0, 1)\n",
    "circuit.append(SGate().inverse().control(), [qr[1], qr[2]])\n",
    "circuit.cx(0, 1)\n",
    "circuit.append(SGate().control(), [qr[0], qr[2]])\n",
    "circuit.h(2)\n",
    "\n",
    "circuit.draw(output='latex')"
   ]
  },
  {
   "cell_type": "markdown",
   "id": "d63b6914-c3d9-4c3a-afb2-3206f204e0dc",
   "metadata": {},
   "source": [
    "If one wants a still bit more concrete visualition of the circuit, it is easy [to construct it to Quirk](https://algassert.com/quirk#circuit={%22cols%22:[[1,1,%22H%22],[1,%22%E2%80%A2%22,%22Z^%C2%BD%22],[%22%E2%80%A2%22,%22X%22],[1,%22%E2%80%A2%22,%22Z^-%C2%BD%22],[%22%E2%80%A2%22,%22X%22],[%22%E2%80%A2%22,1,%22Z^%C2%BD%22],[1,1,%22H%22]]}) and check that is encodes the Toffoli gate. But this does not fullfill the requirement of the exercise 4.9 nor the competition description since the control bits are attached to square root and $S$ gates which is not allowed. Careful reading of Niels and Chuang solves this problem as Gidney points out. We can express the controlled-square root gates (also $S$ gates) above using the following decomposition that is presented in Figure 4.6 in Niels and Chuang. After all, this decomposition is quite well known and classical result. For an arbitrary unitary gate $U$, who is controlled by a single qubit, the decomposition is:"
   ]
  },
  {
   "cell_type": "code",
   "execution_count": 52,
   "id": "45e32ee2-9dfc-4ab3-8a7d-47b9e0547f92",
   "metadata": {},
   "outputs": [
    {
     "data": {
      "image/png": "[encoded data removed]",
      "text/plain": [
       "<PIL.Image.Image image mode=RGB size=350x69 at 0x1B949ECCDC0>"
      ]
     },
     "execution_count": 52,
     "metadata": {},
     "output_type": "execute_result"
    }
   ],
   "source": [
    "qr = QuantumRegister(2)\n",
    "circuit = QuantumCircuit(qr)\n",
    "\n",
    "# This circuit is just to visualization and the identity gate is simply a place holder for the labels\n",
    "circuit.append(IGate(label = \"C\"), [qr[1]])\n",
    "circuit.cx(0, 1)\n",
    "circuit.append(IGate(label = \"B\"), [qr[1]])\n",
    "circuit.cx(0, 1)\n",
    "circuit.append(IGate(label = \"A\"), [qr[1]])\n",
    "circuit.append(IGate(label = \"Z(\\\\alpha)\"), [qr[0]])\n",
    "\n",
    "circuit.draw(output='latex')"
   ]
  },
  {
   "cell_type": "markdown",
   "id": "78ad1065-3cae-4e33-ac04-efdc7faf7813",
   "metadata": {},
   "source": [
    "where\n",
    "$$\n",
    "Z(\\alpha) = \\begin{bmatrix}\n",
    "1 & 0 \\\\\n",
    "0 & e^{i\\alpha}\n",
    "\\end{bmatrix}\n",
    "$$\n",
    "and $Z(\\alpha)AXBXC = U$ and $ABC = I$."
   ]
  },
  {
   "cell_type": "markdown",
   "id": "f0033cf2-00cb-49dc-aa98-05175174826a",
   "metadata": {},
   "source": [
    "If we compare this construction to Figure 4.9 in Niels and Chuang, we can notice that $A = T$, $B = T^{\\dagger}$, $C = I$ and $Z(\\alpha) = T$ when we have the controlled $S$ gate. Now $ABC = TT^{\\dagger} = I$ and $e^{(i\\alpha)}AXBX = S$. So we can deduce that the following circuit implements controlled-$S$ gate:"
   ]
  },
  {
   "cell_type": "code",
   "execution_count": 81,
   "id": "f1a68fda-ddfd-4148-9dd9-6c1a4c835414",
   "metadata": {},
   "outputs": [
    {
     "data": {
      "image/png": "[encoded data removed]",
      "text/plain": [
       "<PIL.Image.Image image mode=RGB size=284x63 at 0x1B94A816F50>"
      ]
     },
     "execution_count": 81,
     "metadata": {},
     "output_type": "execute_result"
    }
   ],
   "source": [
    "qr = QuantumRegister(2)\n",
    "circuit = QuantumCircuit(qr)\n",
    "\n",
    "# This circuit is just to visualization and the identity gate is simply a place holder for the labels\n",
    "circuit.cx(0, 1)\n",
    "circuit.append(TGate().inverse(), [qr[1]])\n",
    "circuit.cx(0, 1)\n",
    "circuit.append(TGate(), [qr[1]])\n",
    "circuit.append(TGate(), [qr[0]])\n",
    "\n",
    "circuit.draw(output='latex')"
   ]
  },
  {
   "cell_type": "markdown",
   "id": "219e56f2-1834-4a9a-8ee7-6f758278a4ca",
   "metadata": {},
   "source": [
    "We can substitute the decomposition above into the circuit with controlled $S$ gates. We then obtain:"
   ]
  },
  {
   "cell_type": "code",
   "execution_count": null,
   "id": "01466d13-5f52-41c9-83cf-15a550e21d8e",
   "metadata": {},
   "outputs": [
    {
     "data": {
      "image/png": "[encoded data removed]",
      "text/plain": [
       "<PIL.Image.Image image mode=RGB size=943x111 at 0x1B94A8203A0>"
      ]
     },
     "execution_count": 94,
     "metadata": {},
     "output_type": "execute_result"
    }
   ],
   "source": [
    "qr = QuantumRegister(3)\n",
    "circuit = QuantumCircuit(qr)\n",
    "\n",
    "circuit.h(2)\n",
    "\n",
    "# First substitution\n",
    "# circuit.append(SGate().control(), [qr[1], qr[2]])\n",
    "\n",
    "circuit.barrier()\n",
    "circuit.cx(1, 2)\n",
    "circuit.append(TGate().inverse(), [qr[2]])\n",
    "circuit.cx(1, 2)\n",
    "circuit.append(TGate(), [qr[2]])\n",
    "circuit.append(TGate(), [qr[1]])\n",
    "circuit.barrier()\n",
    "\n",
    "\n",
    "circuit.cx(0, 1)\n",
    "\n",
    "# Second substitution for inverse S\n",
    "# circuit.append(SGate().inverse().control(), [qr[1], qr[2]])\n",
    "\n",
    "circuit.barrier()\n",
    "circuit.append(TGate().inverse(), [qr[1]])\n",
    "circuit.append(TGate().inverse(), [qr[2]])\n",
    "circuit.cx(1, 2)\n",
    "circuit.append(TGate(), [qr[2]])\n",
    "circuit.cx(1, 2)\n",
    "circuit.barrier()\n",
    "\n",
    "circuit.cx(0, 1)\n",
    "\n",
    "# Third substitution\n",
    "#circuit.append(SGate().control(), [qr[0], qr[2]])\n",
    "\n",
    "circuit.barrier()\n",
    "circuit.cx(0, 2)\n",
    "circuit.append(TGate().inverse(), [qr[2]])\n",
    "circuit.cx(0, 2)\n",
    "circuit.append(TGate(), [qr[2]])\n",
    "circuit.append(TGate(), [qr[0]])\n",
    "circuit.barrier()\n",
    "\n",
    "circuit.h(2)\n",
    "\n",
    "circuit.draw(output='latex')"
   ]
  },
  {
   "cell_type": "markdown",
   "id": "7904645f-d2a8-4dfd-880d-2bb39bb79326",
   "metadata": {},
   "source": [
    "which can be simplied to the following circuit:"
   ]
  },
  {
   "cell_type": "code",
   "execution_count": 95,
   "id": "d4b59e93-b312-4d8d-bbd0-713d8387b442",
   "metadata": {},
   "outputs": [
    {
     "data": {
      "image/png": "[encoded data removed]",
      "text/plain": [
       "<PIL.Image.Image image mode=RGB size=600x97 at 0x1B94A8228C0>"
      ]
     },
     "execution_count": 95,
     "metadata": {},
     "output_type": "execute_result"
    }
   ],
   "source": [
    "qr = QuantumRegister(3)\n",
    "circuit = QuantumCircuit(qr)\n",
    "\n",
    "circuit.h(2)\n",
    "\n",
    "circuit.cx(1, 2)\n",
    "circuit.append(TGate().inverse(), [qr[2]])\n",
    "circuit.cx(0, 2)\n",
    "circuit.append(TGate(), [qr[2]])\n",
    "\n",
    "circuit.cx(0, 1)\n",
    "circuit.cx(1, 2)\n",
    "circuit.cx(0, 2)\n",
    "\n",
    "circuit.append(TGate().inverse(), [qr[1]])\n",
    "circuit.append(TGate().inverse(), [qr[2]])\n",
    "circuit.cx(0, 2)\n",
    "circuit.cx(0, 1)\n",
    "\n",
    "circuit.append(TGate(), [qr[2]])\n",
    "circuit.append(TGate(), [qr[1]])\n",
    "circuit.append(TGate(), [qr[0]])\n",
    "\n",
    "circuit.h(2)\n",
    "\n",
    "circuit.draw(output='latex')"
   ]
  },
  {
   "cell_type": "markdown",
   "id": "3f50e705-60ab-4c06-acb2-aff6f0b606c1",
   "metadata": {},
   "source": [
    "We see that the depth of this circuit ([see the circuit in Quirk](https://algassert.com/quirk#circuit={%22cols%22:[[%22X%22,%22X%22,%22X%22],[1,1,%22H%22],[1,%22%E2%80%A2%22,%22X%22],[1,1,%22Z^-%C2%BC%22],[%22%E2%80%A2%22,1,%22X%22],[1,1,%22Z^%C2%BC%22],[%22%E2%80%A2%22,%22X%22],[1,%22%E2%80%A2%22,%22X%22],[%22%E2%80%A2%22,1,%22X%22],[1,%22Z^-%C2%BC%22,%22Z^-%C2%BC%22],[%22%E2%80%A2%22,1,%22X%22],[%22%E2%80%A2%22,%22X%22],[%22Z^%C2%BC%22,%22Z^%C2%BC%22,%22Z^%C2%BC%22],[1,1,%22H%22]]})) is smaller than the one Niels and Chuang represent but not better than in the problem description example. On the other hand, the circuit in the Classiq's problem description has a mistake: the fourth CNOT should be between $q_0$ and $q_2$ not between $q_1$ and $q_2$. The correct circuit is [here](https://algassert.com/quirk#circuit={%22cols%22:[[1,1,%22H%22],[1,%22%E2%80%A2%22,%22X%22],[1,1,%22Z^-%C2%BC%22],[%22%E2%80%A2%22,1,%22X%22],[1,1,%22Z^%C2%BC%22],[1,%22%E2%80%A2%22,%22X%22],[1,%22Z^%C2%BC%22,%22Z^-%C2%BC%22],[%22%E2%80%A2%22,1,%22X%22],[%22%E2%80%A2%22,%22X%22],[1,1,%22Z^%C2%BC%22],[1,%22Z^-%C2%BC%22],[%22Z^%C2%BC%22,1,%22H%22],[%22%E2%80%A2%22,%22X%22]]}). The number of gates is the same in all of the circuits."
   ]
  },
  {
   "cell_type": "markdown",
   "id": "949a85de-ed94-43b2-af2c-691ee29802ef",
   "metadata": {},
   "source": [
    "### Iteratively and automatically decompose larger multi-control Toffoli gates"
   ]
  },
  {
   "cell_type": "markdown",
   "id": "67dc6829-e446-403f-8e27-1f379c8adfea",
   "metadata": {},
   "source": [
    "In this section I code a program that iteratively decomposes multi-toffoli gates into the previous constructions. In my opinion Pennylane supports better gates based on custom unitaries, I develop the algorithm using it."
   ]
  },
  {
   "cell_type": "code",
   "execution_count": null,
   "id": "d917a858-cbc9-472d-a043-28270c3a7a86",
   "metadata": {},
   "outputs": [],
   "source": [
    "circuits = []\n",
    "n_steps = n_ctrl\n",
    "n_ctrl = 14 # number of control qubits\n",
    "\n",
    "def get_square_root_z(n):\n",
    "    return np.array([[1, 0], [0, np.exp(1j*np.pi/n)]])\n",
    "\n",
    "for i in range(n_steps):\n",
    "    qr = QuantumRegister(n_ctrl + 1)\n",
    "    circuit = QuantumCircuit(qr)\n",
    "    square_root_z = get_square_root_z(2**i)\n",
    "    circuit.append()"
   ]
  }
 ],
 "metadata": {
  "kernelspec": {
   "display_name": "Python 3 (ipykernel)",
   "language": "python",
   "name": "python3"
  },
  "language_info": {
   "codemirror_mode": {
    "name": "ipython",
    "version": 3
   },
   "file_extension": ".py",
   "mimetype": "text/x-python",
   "name": "python",
   "nbconvert_exporter": "python",
   "pygments_lexer": "ipython3",
   "version": "3.10.2"
  }
 },
 "nbformat": 4,
 "nbformat_minor": 5
}
