{
 "cells": [
  {
   "cell_type": "markdown",
   "id": "b120f8e7-e065-460a-baf1-ba58127ab3ab",
   "metadata": {},
   "source": [
    "# Multi-controlled Toffoli decomposition"
   ]
  },
  {
   "cell_type": "markdown",
   "id": "915ff1b6-8380-4e34-a099-263c7be53913",
   "metadata": {},
   "source": [
    "This is a solution proposal for Classiq Coding Challenge where the problem is to decompose 14-control qubit toffoli gate into two and single qubit gates using max 5 ancilla qubits. "
   ]
  },
  {
   "cell_type": "markdown",
   "id": "001623f0-0983-4c8e-b5ef-baefdb294444",
   "metadata": {},
   "source": [
    "Because number 14 feels more or less quite arbitrary and it is also quite large, this code calculates a possible decomposition for any given number of control qubits. The idea is heavily based on the [classical book of Niels and Chuang](http://csis.pace.edu/~ctappert/cs837-19spring/QC-textbook.pdf) and the [excellent blog post](https://algassert.com/circuits/2015/06/22/Using-Quantum-Gates-instead-of-Ancilla-Bits.html) by Craig Gidney. Also, the paper [Elementary gates for quantum computation](https://arxiv.org/abs/quant-ph/9503016v1) has been useful. Maybe everyone opens first the classical book of Niels and Chuang. One can find there the following exercise:\n",
    "\n",
    "\n",
    "\n",
    "My own contribution is the explanation in this document and the implementation. I completed the implementation with Pennylane because Amazon Braket supports it better than Qiskit."
   ]
  },
  {
   "cell_type": "markdown",
   "id": "d569b149-8732-4d34-8da2-91ede04f9441",
   "metadata": {},
   "source": [
    "Table of contents:\n",
    "\n",
    "1. Solution proposal without ancilla qubits\n",
    "    1. Implementation of a simple function that returns square roots for NOT gate\n",
    "    2. Iteratively decompose using square root gates\n",
    "2. Solution proposal with ancilla qubits i.e. the classical solution\n",
    "    1. Iteratively decompose multi-control toffoli gates\n",
    "3. Use ZH-calculus to optimize T-count\n",
    "    1. Implementation of ZH \n",
    "4. Running the code for 14-qubit case"
   ]
  },
  {
   "cell_type": "code",
   "execution_count": 1,
   "id": "680c1dae-741b-43c5-bbf4-0c4f071b8950",
   "metadata": {},
   "outputs": [
    {
     "name": "stderr",
     "output_type": "stream",
     "text": [
      "C:\\Users\\valte\\AppData\\Local\\Programs\\Python\\Python310\\lib\\site-packages\\tqdm\\auto.py:22: TqdmWarning: IProgress not found. Please update jupyter and ipywidgets. See https://ipywidgets.readthedocs.io/en/stable/user_install.html\n",
      "  from .autonotebook import tqdm as notebook_tqdm\n"
     ]
    }
   ],
   "source": [
    "import numpy as np\n",
    "import pennylane as qml"
   ]
  },
  {
   "cell_type": "markdown",
   "id": "2e84abde-6048-4f3f-b462-8be521ad28e3",
   "metadata": {},
   "source": [
    "## Square roots of NOT gate"
   ]
  },
  {
   "cell_type": "code",
   "execution_count": 2,
   "id": "93ecafe0-24fc-42a5-969e-a2c627b28d52",
   "metadata": {},
   "outputs": [],
   "source": [
    "def square_X(n):\n",
    "    return None"
   ]
  },
  {
   "cell_type": "code",
   "execution_count": null,
   "id": "53ff4bbb-be45-4096-8f3e-d2e0b82c74a5",
   "metadata": {},
   "outputs": [],
   "source": []
  }
 ],
 "metadata": {
  "kernelspec": {
   "display_name": "Python 3 (ipykernel)",
   "language": "python",
   "name": "python3"
  },
  "language_info": {
   "codemirror_mode": {
    "name": "ipython",
    "version": 3
   },
   "file_extension": ".py",
   "mimetype": "text/x-python",
   "name": "python",
   "nbconvert_exporter": "python",
   "pygments_lexer": "ipython3",
   "version": "3.10.2"
  }
 },
 "nbformat": 4,
 "nbformat_minor": 5
}
