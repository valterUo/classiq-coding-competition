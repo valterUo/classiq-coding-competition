{
 "cells": [
  {
   "cell_type": "markdown",
   "id": "e6933078-bc02-471c-b4f5-4829dd33fdcb",
   "metadata": {},
   "source": [
    "# Kakuro"
   ]
  },
  {
   "cell_type": "markdown",
   "id": "9139c733-7762-422e-8c50-dd300638b260",
   "metadata": {},
   "source": [
    "## Transform integer variables into binary variables"
   ]
  },
  {
   "cell_type": "markdown",
   "id": "8ddcc3f3-b444-44d3-aa16-c4643b819f03",
   "metadata": {},
   "source": [
    "Let us assume that we have $n$ variables $x_i$ for $i = 0, \\ldots, n - 1$. To have consistent notation we start indexing from $0$. Now each of these variables has a value $0,1,2,3$. In order to express to problem using the binary variables, we define binary variables $x_{i, j}$ so that $i = 0, \\ldots, n - 1$ and $j \\in \\left\\{0,1,2,3 \\right\\}$. Thus we have $4n$ binary variables in the final model. The interpretation of the binary variables is simple: $x_{i,j} = 1$ if $x_i = j$. This enables us to encode integers into binary model."
   ]
  },
  {
   "cell_type": "markdown",
   "id": "fe75b82c-f4ca-414f-9191-a8edf636cae0",
   "metadata": {},
   "source": [
    "## Solution proposal 1: Qubit and gate efficient approach"
   ]
  },
  {
   "cell_type": "markdown",
   "id": "b8c24811-2dfc-4e9a-8e52-38e053360724",
   "metadata": {},
   "source": [
    "The first idea how to tackle the challenge is to assign a state for each binary variable $x_{i,j}$. In the end, if we measure $x_{i,j} = 1$, then we know that $x_i = j$. For example, the variable $x_{0,0}$ would correspond to the state $|0000\\rangle$ in the case $n = 4$. Because the number of states grows exponentially, we would be able to represent large problems with small number of qubits. If we are able to tranform the constraint into Grover oracle which favours those states which corresponds to the solution of the problem, this would solve the problem. Anyway, constructing such oracle seems a complicated task.\n",
    "\n",
    "I think this exercise shows an interesting and also confusing point about quantum oracles. Usually quantum oracles encode the problems that we are solving. Oracles are black-box. Because we are constructing something, which we are not supposed to know, we actually solve the problem before we even send it to the quantum computer. In that sense, the quantum computer is just a machine that we use to read the result from the oracle. I will study this property deeper later."
   ]
  },
  {
   "cell_type": "markdown",
   "id": "08b299bf-ed7b-4b90-abde-ac3c8ece9f40",
   "metadata": {},
   "source": [
    "### Studying constraint types"
   ]
  },
  {
   "cell_type": "markdown",
   "id": "853541ad-2716-429b-ba97-0fa3150e5f92",
   "metadata": {},
   "source": [
    "Although the problem definition had some discussion online, I believe that we can divide the constaints into two classes. Because I want to be able to code the solution so that anyone without thinking anything simply inputs Kakuro constraints from the problem, I start by considering the example case from the problem definition:\n",
    "$$\n",
    "\\begin{align}\n",
    "x_0 \\neq & x_1 &\\quad x_0 \\neq& x_2 \\\\\n",
    "x_1 \\neq & x_3 &\\quad x_2 \\neq& x_3 \\\\\n",
    "x_0 + x_1 =& 3 &\\quad x_0 + x_2 =& 3 \\\\\n",
    "x_2 + x_3 =& 4 &\\quad x_1 + x_3 =& 4.\n",
    "\\end{align}\n",
    "$$"
   ]
  },
  {
   "cell_type": "markdown",
   "id": "19c5cf80-86d8-4eb5-b496-01c68c761bfe",
   "metadata": {},
   "source": [
    "#### Constraint type 1: inequality between two variables"
   ]
  },
  {
   "cell_type": "markdown",
   "id": "157c52e9-90b7-4f97-b4d1-3a25973a9b7d",
   "metadata": {},
   "source": [
    "Obviously the first class of constraints is\n",
    "$$\n",
    "\\begin{align}\n",
    "x_0 \\neq & x_1 \\\\\n",
    "x_2 \\neq& x_3 \\\\\n",
    "x_0 \\neq& x_2 \\\\\n",
    "x_1 \\neq & x_3.\n",
    "\\end{align}\n",
    "$$\n",
    "\n",
    "Let's focus on the first constraint $x_0 \\neq x_1$. In the binary variable format, this constraint means that if $x_{i,j} = 1$ then $x_{k,j} = 0$ for $i = 0, 1$, $k = 0, 1$, $i \\neq k$ and for $j = 0,1,2,3$. In other words, if we flip the phase of the state corresponding the variable $x_{0,j}$ (meaning it is part of the solution), then we do not flip variable $x_{1,j}$. If we were to flip the both variables, then it would mean $x_0 = j = x_1$ which is not allowed.\n",
    "\n",
    "This analysis shows that we have multiple options how to flip the states corresding the variables which are in the inequality constraints. As I described in the beginning, constructing the oracle means that we solve the problem in some sense. We might not be able to read the answer from the oracle but I believe that we need to go through a solving-kind of process when constructing the oracle.\n",
    "\n",
    "So we proceed so that we initially create all the possible correct circuits for the constraint $x_0 \\neq x_1$. Then we proceed to the next constraint $x_2 \\neq x_3$ and append the possible options to the circuits produced in the previous step. At each appending phase, we check if some of the previous constraints are violeted. If a constraint is violeted, we drop the circuit from the process. Finally, we are left with Grover oracles that produce the correct solution to the problem."
   ]
  },
  {
   "cell_type": "markdown",
   "id": "b6ef5f44-0085-4e80-ac46-70ee0ce19cf1",
   "metadata": {},
   "source": [
    "#### Constraint type 2: sum of variables with equality to constant "
   ]
  },
  {
   "cell_type": "markdown",
   "id": "7e2cd1a6-0619-4d43-b6cc-b34f1d9c0b8e",
   "metadata": {},
   "source": [
    "Clearly the second class of constraints is\n",
    "$$\n",
    "\\begin{align}\n",
    "x_0 + x_1 =& 3 \\\\\n",
    "x_2 + x_3 =& 4 \\\\\n",
    "x_0 + x_2 =& 3 \\\\\n",
    "x_1 + x_3 =& 4.\n",
    "\\end{align}\n",
    "$$\n",
    "\n",
    "Again, let's focus on the constraint $x_0 + x_1 = 3$. This means that we have two variables whose values sum up to three. We can divide this into multiple cases:\n",
    "\n",
    "- $x_0 = 0$ and $x_1 = 3$\n",
    "- $x_0 = 3$ and $x_1 = 0$\n",
    "- $x_0 = 1$ and $x_1 = 2$\n",
    "- $x_0 = 2$ and $x_1 = 1$\n",
    "\n",
    "Luckily variables can hold numbers only up to three so maximum value that we can face on the right-hand side of the equality is $6$. Also, it is safe to assume that we do not sum more than three variables at the time. This reduces the number of combinations.\n",
    "\n",
    "Let's study the case that we want to encode $x_0 = 0$ and $x_1 = 3$. This means that we want to set $x_{0,0} = 1$ and $x_{1,3} = 1$ as binary variables. If we have encoded some constraints before this constraint, flipping the states of these variables might violate some previous constraints. Now we are only left to concretely code this approach."
   ]
  },
  {
   "cell_type": "markdown",
   "id": "50026cd0-884e-46df-b528-75747b9402dc",
   "metadata": {},
   "source": [
    "### Implementation"
   ]
  },
  {
   "cell_type": "markdown",
   "id": "8e24bfa9-740f-4421-b305-b2bb2af331ab",
   "metadata": {},
   "source": [
    "Since we are dealing with multiple circuits at the same time, it is easier to use Qiskit than Pennylane."
   ]
  },
  {
   "cell_type": "code",
   "execution_count": 28,
   "id": "19b60543-172b-4fb8-b777-dfdd538ebd75",
   "metadata": {},
   "outputs": [],
   "source": [
    "from qiskit import QuantumCircuit, QuantumRegister\n",
    "from qiskit.circuit.library.standard_gates import MCXGate, XGate\n",
    "import numpy as np"
   ]
  },
  {
   "cell_type": "markdown",
   "id": "5b2fd9d2-b7d0-49e0-b289-e32aca5aa1e2",
   "metadata": {},
   "source": [
    "If we concentrate the actual problem, the constraints are \n",
    "\n",
    "$$\n",
    "\\begin{align}\n",
    "x_0 &\\neq x_1 &\\quad x_0 &\\neq x_2 &\\quad x_1 &\\neq x_3 \\\\\n",
    "x_1 &\\neq x_5 &\\quad x_2 &\\neq x_3 &\\quad x_2 &\\neq x_4 \\\\\n",
    "x_3 &\\neq x_4 &\\quad x_3 &\\neq x_5 &\\quad x_4 &\\neq x_6 \\\\\n",
    "x_5 &\\neq x_6 &&&& \\\\\n",
    "x_0 + x_2 &= 5 &\\quad x_1 + x_3 + x_5 &= 3 &\\quad x_4 + x_6 &= 1 \\\\\n",
    "x_2 + x_4 + x_3 &= 5 &\\quad x_0 + x_1 &= 3 &\\quad x_5 + x_6 &= 1.\n",
    "\\end{align}\n",
    "$$\n",
    "For four variables we have $4*4 = 16$ binary variables which requires $16$ states so we need exactly four query qubits in Grover's algorithm. For six variables we need five query qubits."
   ]
  },
  {
   "cell_type": "code",
   "execution_count": 29,
   "id": "0c21ab74-8627-49e2-b085-4d3b87cb3679",
   "metadata": {},
   "outputs": [],
   "source": [
    "query_qubits = 4\n",
    "# query_qubits = 5\n",
    "\n",
    "inequality_constraints = [(0,1), (0,2), (1,3), (1,5), (2,3), (2,4), (3,4), (3,5), (4,6), (5,6)]\n",
    "inequality_constraints_test = [(0,1), (0,2), (1,3), (2,3)]\n",
    "\n",
    "sum_equality_constraints = [{'variables': [0, 2], 'sum': 5}, {'variables': [1, 3, 5], 'sum': 3}, {'variables': [4, 6], 'sum': 1}, {'variables': [2, 3, 4], 'sum': 5}, {'variables': [0, 1], 'sum': 3}, {'variables': [5, 6], 'sum': 1}]\n",
    "sum_equality_constraints_test = [{'variables': [0, 1], 'sum': 3}, {'variables': [2, 3], 'sum': 4}, {'variables': [0, 2], 'sum': 3}, {'variables': [1, 3], 'sum': 4}]"
   ]
  },
  {
   "cell_type": "markdown",
   "id": "2d749f85-2a81-42c5-ba43-2a39892396ae",
   "metadata": {},
   "source": [
    "The following function maps the binary variables $x_{i,j}$ to integers whose binary representations correspond to states. We return the binary representation as a list since we will need to access each element in the representation later."
   ]
  },
  {
   "cell_type": "code",
   "execution_count": 30,
   "id": "5da13b1b-614e-4b72-8d1e-138ba52c3e41",
   "metadata": {},
   "outputs": [],
   "source": [
    "def variables_to_states(i,j):\n",
    "    int_repr = 4*i + j\n",
    "    bin_repr = np.binary_repr(int_repr)\n",
    "    return '0'*(qubits - len(bin_repr)) + bin_repr"
   ]
  },
  {
   "cell_type": "code",
   "execution_count": 40,
   "id": "f183675d-dcce-4fe8-8f6f-bb77fcdbba78",
   "metadata": {},
   "outputs": [
    {
     "name": "stdout",
     "output_type": "stream",
     "text": [
      "1110\n"
     ]
    }
   ],
   "source": [
    "# Encodes if x_3 = 2 i.e. x_3 = 2 is True if |1110> is True after measurement \n",
    "print(variables_to_states(3,2))"
   ]
  },
  {
   "cell_type": "markdown",
   "id": "f111e828-86bf-4d4f-b322-18f5b081f12e",
   "metadata": {},
   "source": [
    "We proceed with the following idea: Every constraint induces options how to flip phases. Whatever we inlcude in the circuit, we need to exclude something. Consider the example if $x_{0,1} = 1$ then $x_{1,1} = 0$. When we include the gate that encodes the solution $x_{0,1} = 1$, then we cannot use the gate encoding $x_{1,1} = 1$ at any part of the circuit later. This process reduces the correct oracles."
   ]
  },
  {
   "cell_type": "code",
   "execution_count": 41,
   "id": "bfec5800-1162-47f6-bf12-991ede592ab4",
   "metadata": {},
   "outputs": [],
   "source": [
    "def compose_phase_flip_gate(i, j):\n",
    "    qr = QuantumRegister(qubits + 1)\n",
    "    circuit = QuantumCircuit(qr)\n",
    "    ctrl = variables_to_states(i,j)\n",
    "    #print(ctrl)\n",
    "    mctoffoli = MCXGate(4, ctrl_state=ctrl)\n",
    "    circuit.append(mctoffoli, list(range(qubits + 1)))\n",
    "    return circuit\n",
    "\n",
    "def update_bin_table(x, y, oracles):\n",
    "    for oracle in oracles['oracles']:\n",
    "        bin_table = oracle['bin_table']\n",
    "        itemindex = np.where(bin_table[x] == 1)\n",
    "        bin_table[y][itemindex] = -1\n",
    "\n",
    "def append_to_oracles(x, y, oracles):\n",
    "    oracles['seen_variables'].append(x)\n",
    "    for j in range(4):\n",
    "        circuit = compose_phase_flip_gate(x, j)\n",
    "        bin_table = np.zeros(shape=(qubits, 4))\n",
    "        bin_table[x][j] = 1\n",
    "        for k in range(4):\n",
    "            if k != j:\n",
    "                bin_table[x][k] = -1\n",
    "        bin_table[y][j] = -1\n",
    "        oracles['oracles'].append({'circuit': circuit, 'bin_table' : bin_table })\n",
    "\n",
    "def build_inequality_oracles(constraint, oracles):\n",
    "    seen_variables = oracles['seen_variables']\n",
    "    x = constraint[0]\n",
    "    y = constraint[1]\n",
    "    \n",
    "    if x not in seen_variables and y not in seen_variables:\n",
    "        append_to_oracles(x, y, oracles)\n",
    "        append_to_oracles(y, x, oracles)\n",
    "    elif x in seen_variables and y not in seen_variables:\n",
    "        update_bin_table(x, y, oracles)\n",
    "        append_to_oracles(y, x, oracles)  \n",
    "    elif y in seen_variables and x not in seen_variables:\n",
    "        update_bin_table(y, x, oracles)\n",
    "        append_to_oracles(x, y, oracles)\n",
    "    else:\n",
    "        update_bin_table(x, y, oracles)\n",
    "        update_bin_table(y, x, oracles)\n",
    "    \n",
    "    return oracles\n",
    "    \n",
    "    \n",
    "\n",
    "def create_inequality_oracles(constraints, oracles = {'seen_variables': [], 'oracles': []}):\n",
    "    for constraint in constraints:\n",
    "        oracles = build_inequality_oracles(constraint, oracles)\n",
    "    return oracles"
   ]
  },
  {
   "cell_type": "code",
   "execution_count": 42,
   "id": "2a7da0d9-0b69-402f-bcc3-258a0c4117ef",
   "metadata": {},
   "outputs": [
    {
     "data": {
      "text/plain": [
       "{'seen_variables': [0, 1, 2, 3],\n",
       " 'oracles': [{'circuit': <qiskit.circuit.quantumcircuit.QuantumCircuit at 0x1e144a2eef0>,\n",
       "   'bin_table': array([[ 1., -1., -1., -1.],\n",
       "          [-1.,  0.,  0.,  0.],\n",
       "          [-1.,  0.,  0.,  0.],\n",
       "          [ 0.,  0.,  0.,  0.]])},\n",
       "  {'circuit': <qiskit.circuit.quantumcircuit.QuantumCircuit at 0x1e144a2c4f0>,\n",
       "   'bin_table': array([[-1.,  1., -1., -1.],\n",
       "          [ 0., -1.,  0.,  0.],\n",
       "          [ 0., -1.,  0.,  0.],\n",
       "          [ 0.,  0.,  0.,  0.]])},\n",
       "  {'circuit': <qiskit.circuit.quantumcircuit.QuantumCircuit at 0x1e144a2df60>,\n",
       "   'bin_table': array([[-1., -1.,  1., -1.],\n",
       "          [ 0.,  0., -1.,  0.],\n",
       "          [ 0.,  0., -1.,  0.],\n",
       "          [ 0.,  0.,  0.,  0.]])},\n",
       "  {'circuit': <qiskit.circuit.quantumcircuit.QuantumCircuit at 0x1e144a2c550>,\n",
       "   'bin_table': array([[-1., -1., -1.,  1.],\n",
       "          [ 0.,  0.,  0., -1.],\n",
       "          [ 0.,  0.,  0., -1.],\n",
       "          [ 0.,  0.,  0.,  0.]])},\n",
       "  {'circuit': <qiskit.circuit.quantumcircuit.QuantumCircuit at 0x1e144a2ecb0>,\n",
       "   'bin_table': array([[-1.,  0.,  0.,  0.],\n",
       "          [ 1., -1., -1., -1.],\n",
       "          [ 0.,  0.,  0.,  0.],\n",
       "          [-1.,  0.,  0.,  0.]])},\n",
       "  {'circuit': <qiskit.circuit.quantumcircuit.QuantumCircuit at 0x1e144a2c460>,\n",
       "   'bin_table': array([[ 0., -1.,  0.,  0.],\n",
       "          [-1.,  1., -1., -1.],\n",
       "          [ 0.,  0.,  0.,  0.],\n",
       "          [ 0., -1.,  0.,  0.]])},\n",
       "  {'circuit': <qiskit.circuit.quantumcircuit.QuantumCircuit at 0x1e144a2fdf0>,\n",
       "   'bin_table': array([[ 0.,  0., -1.,  0.],\n",
       "          [-1., -1.,  1., -1.],\n",
       "          [ 0.,  0.,  0.,  0.],\n",
       "          [ 0.,  0., -1.,  0.]])},\n",
       "  {'circuit': <qiskit.circuit.quantumcircuit.QuantumCircuit at 0x1e144a2cb50>,\n",
       "   'bin_table': array([[ 0.,  0.,  0., -1.],\n",
       "          [-1., -1., -1.,  1.],\n",
       "          [ 0.,  0.,  0.,  0.],\n",
       "          [ 0.,  0.,  0., -1.]])},\n",
       "  {'circuit': <qiskit.circuit.quantumcircuit.QuantumCircuit at 0x1e144a2d870>,\n",
       "   'bin_table': array([[-1.,  0.,  0.,  0.],\n",
       "          [ 0.,  0.,  0.,  0.],\n",
       "          [ 1., -1., -1., -1.],\n",
       "          [-1.,  0.,  0.,  0.]])},\n",
       "  {'circuit': <qiskit.circuit.quantumcircuit.QuantumCircuit at 0x1e144911480>,\n",
       "   'bin_table': array([[ 0., -1.,  0.,  0.],\n",
       "          [ 0.,  0.,  0.,  0.],\n",
       "          [-1.,  1., -1., -1.],\n",
       "          [ 0., -1.,  0.,  0.]])},\n",
       "  {'circuit': <qiskit.circuit.quantumcircuit.QuantumCircuit at 0x1e144911900>,\n",
       "   'bin_table': array([[ 0.,  0., -1.,  0.],\n",
       "          [ 0.,  0.,  0.,  0.],\n",
       "          [-1., -1.,  1., -1.],\n",
       "          [ 0.,  0., -1.,  0.]])},\n",
       "  {'circuit': <qiskit.circuit.quantumcircuit.QuantumCircuit at 0x1e144911120>,\n",
       "   'bin_table': array([[ 0.,  0.,  0., -1.],\n",
       "          [ 0.,  0.,  0.,  0.],\n",
       "          [-1., -1., -1.,  1.],\n",
       "          [ 0.,  0.,  0., -1.]])},\n",
       "  {'circuit': <qiskit.circuit.quantumcircuit.QuantumCircuit at 0x1e1449111b0>,\n",
       "   'bin_table': array([[ 0.,  0.,  0.,  0.],\n",
       "          [-1.,  0.,  0.,  0.],\n",
       "          [-1.,  0.,  0.,  0.],\n",
       "          [ 1., -1., -1., -1.]])},\n",
       "  {'circuit': <qiskit.circuit.quantumcircuit.QuantumCircuit at 0x1e144913eb0>,\n",
       "   'bin_table': array([[ 0.,  0.,  0.,  0.],\n",
       "          [ 0., -1.,  0.,  0.],\n",
       "          [ 0., -1.,  0.,  0.],\n",
       "          [-1.,  1., -1., -1.]])},\n",
       "  {'circuit': <qiskit.circuit.quantumcircuit.QuantumCircuit at 0x1e1449123b0>,\n",
       "   'bin_table': array([[ 0.,  0.,  0.,  0.],\n",
       "          [ 0.,  0., -1.,  0.],\n",
       "          [ 0.,  0., -1.,  0.],\n",
       "          [-1., -1.,  1., -1.]])},\n",
       "  {'circuit': <qiskit.circuit.quantumcircuit.QuantumCircuit at 0x1e144910d90>,\n",
       "   'bin_table': array([[ 0.,  0.,  0.,  0.],\n",
       "          [ 0.,  0.,  0., -1.],\n",
       "          [ 0.,  0.,  0., -1.],\n",
       "          [-1., -1., -1.,  1.]])}]}"
      ]
     },
     "execution_count": 42,
     "metadata": {},
     "output_type": "execute_result"
    }
   ],
   "source": [
    "create_inequality_oracles(inequality_constraints_test)"
   ]
  },
  {
   "cell_type": "markdown",
   "id": "b0ca4738-ae4d-4bc7-b5fa-9dd3ac98e76e",
   "metadata": {},
   "source": [
    "## Solution proposal 2: Apply ideas from paper Grover Adaptive Search for Constrained Polynomial Binary Optimization"
   ]
  },
  {
   "cell_type": "markdown",
   "id": "9806a000-5f3e-4a58-bf49-ff61becc3fef",
   "metadata": {},
   "source": [
    "### Encode constraints as QUBO"
   ]
  },
  {
   "cell_type": "markdown",
   "id": "07b01536-edd1-4f86-8e83-99960108efc9",
   "metadata": {},
   "source": [
    "### Solve QUBO with Grover search"
   ]
  },
  {
   "cell_type": "markdown",
   "id": "6306d8b5-26bb-42b1-8912-2a392797306d",
   "metadata": {},
   "source": [
    "## Solution proposal 3: Quantum machine learning – again"
   ]
  }
 ],
 "metadata": {
  "kernelspec": {
   "display_name": "Python 3 (ipykernel)",
   "language": "python",
   "name": "python3"
  },
  "language_info": {
   "codemirror_mode": {
    "name": "ipython",
    "version": 3
   },
   "file_extension": ".py",
   "mimetype": "text/x-python",
   "name": "python",
   "nbconvert_exporter": "python",
   "pygments_lexer": "ipython3",
   "version": "3.10.2"
  }
 },
 "nbformat": 4,
 "nbformat_minor": 5
}
