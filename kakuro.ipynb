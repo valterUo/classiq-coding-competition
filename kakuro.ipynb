{
 "cells": [
  {
   "cell_type": "markdown",
   "id": "e6933078-bc02-471c-b4f5-4829dd33fdcb",
   "metadata": {},
   "source": [
    "# Studies on solving Kakuro puzzle with Grover algorithm"
   ]
  },
  {
   "cell_type": "markdown",
   "id": "e37734b6-40c8-4df4-9472-f7475d1235dd",
   "metadata": {},
   "source": [
    "Valter Uotila, PhD student, University of Helsinki"
   ]
  },
  {
   "cell_type": "markdown",
   "id": "5913bac1-a4e0-40ee-9842-dde3e0853ade",
   "metadata": {},
   "source": [
    "As the discussion in Classiq's channel showed, this problem has been somewhat confusing. If we read the problem definition very carefully, it does not describe in detail what kind of Grover algorithm application it should be. For example, saying ''You are not allowed to solve the puzzle manually'' seems to be meaning actual manual solving by the person. On the other hand, it could also mean that \n",
    "\n",
    "Not caring so much what the exact problem is, I developed various solutions to the challenge. First I represent the solution that I consider interesting in the sense how it encodes the variables and values. Instead of using a huge number of qubits, we really should design algorithms so that we can take advantage of the exponentially growing space of states. Hilbert space is large indeed and we should benefit from that. The downside of the first solution is the fact that it is not really the Grover's algorithm that solves the problem but Grover's algorithm rather reads quantumly encoded solution from the black box oracle circuit. This is in the line of the Grover's original idea but it is not so interesting. Now it depends on the problem definition if this is allowed or not. I developed the solution so that you can input any (there must be some corner cases that fail) Kakuro problem that the algorithm classically creates the oracle and Grover's algorithm ''reads'' the solution from the oracle.\n",
    "\n",
    "The second solution follows the idea that is also represented in Qiskit documentation: [Solving Sudoku using Grover's Algorithm](https://qiskit.org/textbook/ch-algorithms/grover.html#5.-Solving-Sudoku-using-Grover's-Algorithm-). I believe that this is the idea that has been in the developers' minds while desining the Kakuro challenge. Unlike the previous solution, here the Grover's algorithm really solves the problem but the downside is the large qubit number and depth of the circuit.\n",
    "\n",
    "I partly participate the competitions because they motivate me to study new topics efficiently, I also wanted to consider the third option which is based on very interesting and recent paper: [Grover Adaptive Search for Constrained Polynomial Binary Optimization](https://arxiv.org/abs/1912.04088)."
   ]
  },
  {
   "cell_type": "markdown",
   "id": "9139c733-7762-422e-8c50-dd300638b260",
   "metadata": {},
   "source": [
    "## Transform integer variables into binary variables"
   ]
  },
  {
   "cell_type": "markdown",
   "id": "8ddcc3f3-b444-44d3-aa16-c4643b819f03",
   "metadata": {},
   "source": [
    "Let us assume that we have $n$ variables $x_i$ for $i = 0, \\ldots, n - 1$. To have consistent notation we start indexing from $0$. Now each of these variables has a value $0,1,2,3$. In order to express to problem using the binary variables, we define binary variables $x_{i, j}$ so that $i = 0, \\ldots, n - 1$ and $j \\in \\left\\{0,1,2,3 \\right\\}$. Thus we have $4n$ binary variables in the final model. The interpretation of the binary variables is simple: $x_{i,j} = 1$ if $x_i = j$. This enables us to encode integers into binary model."
   ]
  },
  {
   "cell_type": "markdown",
   "id": "fe75b82c-f4ca-414f-9191-a8edf636cae0",
   "metadata": {},
   "source": [
    "## Solution proposal 1: Qubit and gate efficient approach"
   ]
  },
  {
   "cell_type": "markdown",
   "id": "b8c24811-2dfc-4e9a-8e52-38e053360724",
   "metadata": {},
   "source": [
    "The first idea how to tackle the challenge is to assign a state for each binary variable $x_{i,j}$. In the end, if we measure $x_{i,j} = 1$, then we know that $x_i = j$. For example, the variable $x_{0,0}$ would correspond to the state $|0000\\rangle$ in the case $n = 4$. Because the number of states grows exponentially, we would be able to represent large problems with small number of qubits. If we are able to tranform the constraint into Grover oracle which favours those states which corresponds to the solution of the problem, this would solve the problem. Anyway, constructing such oracle seems a complicated task.\n",
    "\n",
    "For me this exercise shows an interesting and also confusing point about quantum oracles. Usually quantum oracles encode the problems that we are solving. Oracles are black-box. Because we are constructing something, which we are not supposed to know, we actually solve the problem before we even send it to the quantum computer. In that sense, the quantum computer is just a machine that we use to read the result from the oracle."
   ]
  },
  {
   "cell_type": "markdown",
   "id": "08b299bf-ed7b-4b90-abde-ac3c8ece9f40",
   "metadata": {},
   "source": [
    "### Studying constraint types"
   ]
  },
  {
   "cell_type": "markdown",
   "id": "853541ad-2716-429b-ba97-0fa3150e5f92",
   "metadata": {},
   "source": [
    "Although the problem definition had some discussion online, I believe that we can divide the constaints into two classes. Because I want to be able to code the solution so that anyone without thinking anything simply inputs Kakuro constraints from the problem, I start by considering the example case from the problem definition:\n",
    "$$\n",
    "\\begin{align}\n",
    "x_0 \\neq & x_1 &\\quad x_0 \\neq& x_2 \\\\\n",
    "x_1 \\neq & x_3 &\\quad x_2 \\neq& x_3 \\\\\n",
    "x_0 + x_1 =& 3 &\\quad x_0 + x_2 =& 3 \\\\\n",
    "x_2 + x_3 =& 4 &\\quad x_1 + x_3 =& 4.\n",
    "\\end{align}\n",
    "$$"
   ]
  },
  {
   "cell_type": "markdown",
   "id": "19c5cf80-86d8-4eb5-b496-01c68c761bfe",
   "metadata": {},
   "source": [
    "#### Constraint type 1: inequality between two variables"
   ]
  },
  {
   "cell_type": "markdown",
   "id": "157c52e9-90b7-4f97-b4d1-3a25973a9b7d",
   "metadata": {},
   "source": [
    "Obviously the first class of constraints is\n",
    "$$\n",
    "\\begin{align}\n",
    "x_0 \\neq & x_1 \\\\\n",
    "x_2 \\neq& x_3 \\\\\n",
    "x_0 \\neq& x_2 \\\\\n",
    "x_1 \\neq & x_3.\n",
    "\\end{align}\n",
    "$$\n",
    "\n",
    "Let's focus on the first constraint $x_0 \\neq x_1$. In the binary variable format, this constraint means that if $x_{i,j} = 1$ then $x_{k,j} = 0$ for $i = 0, 1$, $k = 0, 1$, $i \\neq k$ and for $j = 0,1,2,3$. In other words, if we flip the phase of the state corresponding the variable $x_{0,j}$ (meaning it is part of the solution), then we do not flip variable $x_{1,j}$. If we were to flip the both variables, then it would mean $x_0 = j = x_1$ which is not allowed.\n",
    "\n",
    "This analysis shows that we have multiple options how to flip the states corresding the variables which are in the inequality constraints. As I described in the beginning, constructing the oracle means that we solve the problem in some sense.\n",
    "\n",
    "So we proceed so that we initially create all the possible correct circuits for the constraint $x_0 \\neq x_1$. Then we proceed to the next constraint $x_2 \\neq x_3$ and append the possible options to the circuits produced in the previous step. At each appending phase, we check if some of the previous constraints are violeted. If a constraint is violeted, we drop the circuit from the process. Finally, we are left with Grover oracles that produce the correct solution to the problem."
   ]
  },
  {
   "cell_type": "markdown",
   "id": "b6ef5f44-0085-4e80-ac46-70ee0ce19cf1",
   "metadata": {},
   "source": [
    "#### Constraint type 2: sum of variables with equality to constant "
   ]
  },
  {
   "cell_type": "markdown",
   "id": "7e2cd1a6-0619-4d43-b6cc-b34f1d9c0b8e",
   "metadata": {},
   "source": [
    "Clearly the second class of constraints is\n",
    "$$\n",
    "\\begin{align}\n",
    "x_0 + x_1 =& 3 \\\\\n",
    "x_2 + x_3 =& 4 \\\\\n",
    "x_0 + x_2 =& 3 \\\\\n",
    "x_1 + x_3 =& 4.\n",
    "\\end{align}\n",
    "$$\n",
    "\n",
    "Again, let's focus on the constraint $x_0 + x_1 = 3$. This means that we have two variables whose values sum up to three. We can divide this into multiple cases:\n",
    "\n",
    "- $x_0 = 0$ and $x_1 = 3$\n",
    "- $x_0 = 3$ and $x_1 = 0$\n",
    "- $x_0 = 1$ and $x_1 = 2$\n",
    "- $x_0 = 2$ and $x_1 = 1$\n",
    "\n",
    "Luckily variables can hold numbers only up to three so maximum value that we can face on the right-hand side of the equality is $6$. Also, it is safe to assume that we do not sum more than three variables at the time. This reduces the number of combinations.\n",
    "\n",
    "Let's study the case that we want to encode $x_0 = 0$ and $x_1 = 3$. This means that we want to set $x_{0,0} = 1$ and $x_{1,3} = 1$ as binary variables. If we have encoded some constraints before this constraint, flipping the states of these variables might violate some previous constraints. That allows us to drop certain oracles from the construction process. Now we are only left to concretely code this approach."
   ]
  },
  {
   "cell_type": "markdown",
   "id": "50026cd0-884e-46df-b528-75747b9402dc",
   "metadata": {},
   "source": [
    "### Implementation"
   ]
  },
  {
   "cell_type": "markdown",
   "id": "8e24bfa9-740f-4421-b305-b2bb2af331ab",
   "metadata": {},
   "source": [
    "Since we are dealing with multiple circuits at the same time, it is easier to use Qiskit than Pennylane."
   ]
  },
  {
   "cell_type": "code",
   "execution_count": 87,
   "id": "19b60543-172b-4fb8-b777-dfdd538ebd75",
   "metadata": {},
   "outputs": [],
   "source": [
    "from qiskit import QuantumCircuit, QuantumRegister\n",
    "from qiskit.circuit.library.standard_gates import MCXGate, XGate\n",
    "import numpy as np\n",
    "import copy"
   ]
  },
  {
   "cell_type": "markdown",
   "id": "5b2fd9d2-b7d0-49e0-b289-e32aca5aa1e2",
   "metadata": {},
   "source": [
    "If we concentrate the actual problem, the constraints are \n",
    "\n",
    "$$\n",
    "\\begin{align}\n",
    "x_0 &\\neq x_1 &\\quad x_0 &\\neq x_2 &\\quad x_1 &\\neq x_3 \\\\\n",
    "x_1 &\\neq x_5 &\\quad x_2 &\\neq x_3 &\\quad x_2 &\\neq x_4 \\\\\n",
    "x_3 &\\neq x_4 &\\quad x_3 &\\neq x_5 &\\quad x_4 &\\neq x_6 \\\\\n",
    "x_5 &\\neq x_6 &&&& \\\\\n",
    "x_0 + x_2 &= 5 &\\quad x_1 + x_3 + x_5 &= 3 &\\quad x_4 + x_6 &= 1 \\\\\n",
    "x_2 + x_4 + x_3 &= 5 &\\quad x_0 + x_1 &= 3 &\\quad x_5 + x_6 &= 1.\n",
    "\\end{align}\n",
    "$$\n",
    "\n",
    "For four variables we have $4*4 = 16$ binary variables which requires $16$ states so we need exactly four query qubits in Grover's algorithm. For six variables we need five query qubits."
   ]
  },
  {
   "cell_type": "code",
   "execution_count": 139,
   "id": "0c21ab74-8627-49e2-b085-4d3b87cb3679",
   "metadata": {},
   "outputs": [],
   "source": [
    "query_qubits = 4\n",
    "# query_qubits = 5\n",
    "\n",
    "inequality_constraints = [(0,1), (0,2), (1,3), (1,5), (2,3), (2,4), (3,4), (3,5), (4,6), (5,6)]\n",
    "inequality_constraints_test = [(0,1), (2,3), (1,3), (0,2)]\n",
    "\n",
    "sum_equality_constraints = [{'variables': [0, 2], 'sum': 5}, {'variables': [1, 3, 5], 'sum': 3}, {'variables': [4, 6], 'sum': 1}, {'variables': [2, 3, 4], 'sum': 5}, {'variables': [0, 1], 'sum': 3}, {'variables': [5, 6], 'sum': 1}]\n",
    "sum_equality_constraints_test = [{'variables': [0, 1], 'sum': 3}, {'variables': [2, 3], 'sum': 4}, {'variables': [0, 2], 'sum': 3}, {'variables': [1, 3], 'sum': 4}]"
   ]
  },
  {
   "cell_type": "markdown",
   "id": "2d749f85-2a81-42c5-ba43-2a39892396ae",
   "metadata": {},
   "source": [
    "The following injective function maps the binary variables $x_{i,j}$ to integers whose binary representations correspond to states. We return the binary representation as a list since we will need to access each element in the representation later."
   ]
  },
  {
   "cell_type": "code",
   "execution_count": 140,
   "id": "5da13b1b-614e-4b72-8d1e-138ba52c3e41",
   "metadata": {},
   "outputs": [],
   "source": [
    "def variables_to_states(i,j):\n",
    "    int_repr = 4*i + j\n",
    "    bin_repr = np.binary_repr(int_repr)\n",
    "    return '0'*(query_qubits - len(bin_repr)) + bin_repr\n",
    "\n",
    "def state_to_variables(state):\n",
    "    decimal = int(state, 2)\n",
    "    j = decimal % 4\n",
    "    i = int(np.floor(decimal/4))\n",
    "    return (i, j)"
   ]
  },
  {
   "cell_type": "code",
   "execution_count": 141,
   "id": "f183675d-dcce-4fe8-8f6f-bb77fcdbba78",
   "metadata": {},
   "outputs": [
    {
     "name": "stdout",
     "output_type": "stream",
     "text": [
      "1110\n",
      "(3, 2)\n"
     ]
    }
   ],
   "source": [
    "# Encodes if x_3 = 2 i.e. x_3 = 2 is True if |1110> is True after measurement \n",
    "print(variables_to_states(3,2))\n",
    "print(state_to_variables(variables_to_states(3,2)))"
   ]
  },
  {
   "cell_type": "markdown",
   "id": "f111e828-86bf-4d4f-b322-18f5b081f12e",
   "metadata": {},
   "source": [
    "We proceed with the following idea: Every constraint induces options how to flip phases. Whatever we inlcude in the circuit, we need to exclude something. Consider the example if $x_{0,1} = 1$ then $x_{1,1} = 0$. When we include the gate that encodes the solution $x_{0,1} = 1$, then we cannot use the gate encoding $x_{1,1} = 1$ at any part of the circuit later. This process reduces the correct oracles."
   ]
  },
  {
   "cell_type": "code",
   "execution_count": 142,
   "id": "bfec5800-1162-47f6-bf12-991ede592ab4",
   "metadata": {},
   "outputs": [],
   "source": [
    "# It appears that Qiskit supports very badly simulations on circuits that have been constructed separately\n",
    "# Thus we just store the control qubit information and compose the circuit when we compose the Grover's algorithm\n",
    "def compose_phase_flip_gate(i, j, circuit):\n",
    "    ctrl = variables_to_states(i,j)\n",
    "    circuit.add(ctrl)\n",
    "    return circuit\n",
    "\n",
    "def expand_inequality_oracles(x, y, oracles):\n",
    "    new_oracles = []\n",
    "    for oracle in oracles:\n",
    "        for j in range(4):\n",
    "            oracle_copy = copy.deepcopy(oracle)\n",
    "            bin_table = oracle_copy['bin_table']\n",
    "            if bin_table[x][j] != -1 and bin_table[y][j] != 1:\n",
    "                bin_table[x][j] = 1\n",
    "                for k in range(4):\n",
    "                    if k != j:\n",
    "                        bin_table[x][k] = -1\n",
    "                bin_table[y][j] = -1\n",
    "                circuit = oracle_copy['circuit']\n",
    "                compose_phase_flip_gate(x, j, circuit)\n",
    "                new_oracles.append(oracle_copy)\n",
    "    return new_oracles\n",
    "\n",
    "\n",
    "def initialize_oracles(x, y, oracles):\n",
    "    for j in range(4):\n",
    "        circuit = compose_phase_flip_gate(x, j, set())\n",
    "        bin_table = np.zeros(shape=(query_qubits, 4))\n",
    "        bin_table[x][j] = 1\n",
    "        for k in range(4):\n",
    "            if k != j:\n",
    "                bin_table[x][k] = -1\n",
    "        bin_table[y][j] = -1\n",
    "        oracles.append({'circuit': circuit, 'bin_table' : bin_table })\n",
    "    return oracles\n",
    "\n",
    "    \n",
    "def create_inequality_oracles(constraints):\n",
    "    oracles = []\n",
    "    x = constraints[0][0]\n",
    "    y = constraints[0][1]\n",
    "    oracles = initialize_oracles(x, y, oracles)\n",
    "    oracles = initialize_oracles(y, x, oracles)\n",
    "    \n",
    "    for constraint in constraints[1:]:\n",
    "        x = constraint[0]\n",
    "        y = constraint[1]\n",
    "        oracles = expand_inequality_oracles(x, y, oracles)\n",
    "        oracles = expand_inequality_oracles(y, x, oracles)\n",
    "    return oracles"
   ]
  },
  {
   "cell_type": "code",
   "execution_count": 143,
   "id": "2a7da0d9-0b69-402f-bcc3-258a0c4117ef",
   "metadata": {},
   "outputs": [
    {
     "name": "stdout",
     "output_type": "stream",
     "text": [
      "168\n"
     ]
    }
   ],
   "source": [
    "oracles = create_inequality_oracles(inequality_constraints_test)\n",
    "print(len(oracles))"
   ]
  },
  {
   "cell_type": "markdown",
   "id": "2169909e-de59-44c2-b4f2-7e515bc72e11",
   "metadata": {},
   "source": [
    "The following function calculates how many different ways we can sum two or three variables so that we obtained the given sum."
   ]
  },
  {
   "cell_type": "code",
   "execution_count": 144,
   "id": "e4a336fe-58f3-47b5-b9a8-c043162b14a1",
   "metadata": {},
   "outputs": [],
   "source": [
    "def sum_options(constraint):\n",
    "    variables = constraint['variables']\n",
    "    sum_value = constraint['sum']\n",
    "    result = []\n",
    "    \n",
    "    if len(variables) == 2:\n",
    "        for i in range(4):\n",
    "            if sum_value - i < 4 and sum_value - i > -1:\n",
    "                result.append((i, sum_value - i))\n",
    "    elif len(variables) == 3:\n",
    "        for i in range(4):\n",
    "            if sum_value - i < 4 and sum_value - i > -1:\n",
    "                temp_options = sum_options({'variables': [0, 1], 'sum': i})\n",
    "                for o in temp_options:\n",
    "                    result.append((o[0], o[1], sum_value - i))\n",
    "    return result"
   ]
  },
  {
   "cell_type": "markdown",
   "id": "35eb964f-137e-4ad4-b965-d8fc83197456",
   "metadata": {},
   "source": [
    "We then update the binary variable tables and the corresponding circuits based on the different combinations that summing creates."
   ]
  },
  {
   "cell_type": "code",
   "execution_count": 145,
   "id": "242343a1-cc4d-4c55-8377-e7cdcca2a0aa",
   "metadata": {},
   "outputs": [],
   "source": [
    "def limit_oracles_based_on_sum_constraints(sums, constraint, oracles):\n",
    "    correct_oracles = []\n",
    "    variables = constraint['variables']\n",
    "    for oracle in oracles:\n",
    "        for option in sums:\n",
    "            bin_table = oracle['bin_table']\n",
    "            if all([bin_table[variables[k]][option[k]] == 1 for k in range(len(variables))]):\n",
    "                correct_oracles.append(oracle)\n",
    "    return correct_oracles\n",
    "    \n",
    "\n",
    "def build_sum_oracle(constraint, oracles):\n",
    "    sums = sum_options(constraint)\n",
    "    oracles = limit_oracles_based_on_sum_constraints(sums, constraint, oracles)\n",
    "    return oracles"
   ]
  },
  {
   "cell_type": "code",
   "execution_count": 146,
   "id": "bdb095a6-44d2-428a-ac7a-292575d5285f",
   "metadata": {},
   "outputs": [],
   "source": [
    "for constraint in sum_equality_constraints_test:\n",
    "    oracles = build_sum_oracle(constraint, oracles)"
   ]
  },
  {
   "cell_type": "code",
   "execution_count": 147,
   "id": "fc0786fd-3cb3-4264-a8b1-5eeaf12e0691",
   "metadata": {},
   "outputs": [],
   "source": [
    "def remove_duplicates(oracles):\n",
    "    new_oracles = [oracles[0]]\n",
    "    for oracle in oracles[1:]:\n",
    "        if not all([np.array_equal(oracle['bin_table'], oracle2['bin_table']) for oracle2 in new_oracles]):\n",
    "            new_oracles.append(oracle)\n",
    "    return new_oracles"
   ]
  },
  {
   "cell_type": "code",
   "execution_count": 148,
   "id": "ccaa38d5-eb53-4eee-b92b-c7c62c62f5a6",
   "metadata": {},
   "outputs": [
    {
     "name": "stdout",
     "output_type": "stream",
     "text": [
      "[{'circuit': {'1101', '0000', '0111', '1011'}, 'bin_table': array([[ 1., -1., -1., -1.],\n",
      "       [-1., -1., -1.,  1.],\n",
      "       [-1., -1., -1.,  1.],\n",
      "       [-1.,  1., -1., -1.]])}, {'circuit': {'1111', '0010', '1001', '0101'}, 'bin_table': array([[-1., -1.,  1., -1.],\n",
      "       [-1.,  1., -1., -1.],\n",
      "       [-1.,  1., -1., -1.],\n",
      "       [-1., -1., -1.,  1.]])}, {'circuit': {'1111', '0010', '1001', '0101'}, 'bin_table': array([[-1., -1.,  1., -1.],\n",
      "       [-1.,  1., -1., -1.],\n",
      "       [-1.,  1., -1., -1.],\n",
      "       [-1., -1., -1.,  1.]])}, {'circuit': {'1101', '0000', '0111', '1011'}, 'bin_table': array([[ 1., -1., -1., -1.],\n",
      "       [-1., -1., -1.,  1.],\n",
      "       [-1., -1., -1.,  1.],\n",
      "       [-1.,  1., -1., -1.]])}]\n",
      "(3, 1)\n",
      "(0, 0)\n",
      "(1, 3)\n",
      "(2, 3)\n"
     ]
    }
   ],
   "source": [
    "oracles = remove_duplicates(oracles)\n",
    "#print(oracles)\n",
    "#for b in oracles[0]['circuit']:\n",
    "#    print(state_to_variables(b))"
   ]
  },
  {
   "cell_type": "markdown",
   "id": "97e4aa66-bc6d-447d-9e9a-241a6f4c9c65",
   "metadata": {},
   "source": [
    "### Implement Grover search"
   ]
  },
  {
   "cell_type": "code",
   "execution_count": 151,
   "id": "6f0f4d67-b738-4d8e-90b2-3f4f937d4663",
   "metadata": {},
   "outputs": [],
   "source": [
    "import matplotlib.pyplot as plt\n",
    "import numpy as np\n",
    "from qiskit import IBMQ, Aer, assemble, transpile\n",
    "from qiskit import QuantumCircuit, ClassicalRegister, QuantumRegister\n",
    "from qiskit.visualization import plot_histogram\n",
    "from qiskit.providers.aer.backends import AerSimulator\n",
    "\n",
    "grover_circuit = QuantumCircuit(query_qubits + 1)"
   ]
  },
  {
   "cell_type": "code",
   "execution_count": 152,
   "id": "dd08931e-3410-4de3-ba17-f988584e5630",
   "metadata": {},
   "outputs": [],
   "source": [
    "def initialize_s(qc, qubits):\n",
    "    # Hadamard transform\n",
    "    qc.x(qubits[-1])\n",
    "    qc.h(qubits)\n",
    "    qc.barrier()\n",
    "    return qc"
   ]
  },
  {
   "cell_type": "code",
   "execution_count": 153,
   "id": "477b0609-0ac1-441d-958a-fa8a9be5ddaf",
   "metadata": {},
   "outputs": [],
   "source": [
    "def compose_grover_oracle(qc, qubits, ctrl_char):\n",
    "    not_indices = []\n",
    "    for i, b in enumerate(ctrl_char):\n",
    "        if b == '0':\n",
    "            qc.x(i)\n",
    "            not_indices.append(i)\n",
    "            \n",
    "    qc.mcx(list(qubits[:-1]), len(qubits) - 1)\n",
    "    \n",
    "    for i in not_indices:\n",
    "        qc.x(i)\n",
    "    return qc"
   ]
  },
  {
   "cell_type": "code",
   "execution_count": 154,
   "id": "e7239ac4-26b9-4790-9cb2-d1dbc02b87d7",
   "metadata": {},
   "outputs": [
    {
     "data": {
      "text/html": [
       "<pre style=\"word-wrap: normal;white-space: pre;background: #fff0;line-height: 1.1;font-family: &quot;Courier New&quot;,Courier,monospace\">     ┌───┐      ░ \n",
       "q_0: ┤ H ├──────░─\n",
       "     ├───┤      ░ \n",
       "q_1: ┤ H ├──────░─\n",
       "     ├───┤      ░ \n",
       "q_2: ┤ H ├──────░─\n",
       "     ├───┤      ░ \n",
       "q_3: ┤ H ├──────░─\n",
       "     ├───┤┌───┐ ░ \n",
       "q_4: ┤ X ├┤ H ├─░─\n",
       "     └───┘└───┘ ░ </pre>"
      ],
      "text/plain": [
       "     ┌───┐      ░ \n",
       "q_0: ┤ H ├──────░─\n",
       "     ├───┤      ░ \n",
       "q_1: ┤ H ├──────░─\n",
       "     ├───┤      ░ \n",
       "q_2: ┤ H ├──────░─\n",
       "     ├───┤      ░ \n",
       "q_3: ┤ H ├──────░─\n",
       "     ├───┤┌───┐ ░ \n",
       "q_4: ┤ X ├┤ H ├─░─\n",
       "     └───┘└───┘ ░ "
      ]
     },
     "execution_count": 154,
     "metadata": {},
     "output_type": "execute_result"
    }
   ],
   "source": [
    "grover_circuit = initialize_s(grover_circuit, range(query_qubits + 1))\n",
    "grover_circuit.draw()"
   ]
  },
  {
   "cell_type": "code",
   "execution_count": 155,
   "id": "d9942a6a-e0a5-48e6-9cbb-5d63cbaede5a",
   "metadata": {},
   "outputs": [],
   "source": [
    "def diffusion(qc, qubits):\n",
    "    qc.barrier()\n",
    "    qc.h(qubits)\n",
    "    qc.x(qubits[:-1])\n",
    "    qc.mcx(list(qubits[:-1]), len(qubits) - 1)\n",
    "    qc.x(qubits[:-1])\n",
    "    qc.h(qubits)\n",
    "    qc.barrier()\n",
    "    return qc"
   ]
  },
  {
   "cell_type": "code",
   "execution_count": 156,
   "id": "24cc4c28-f99e-4513-90bc-9fad097965b8",
   "metadata": {},
   "outputs": [
    {
     "data": {
      "text/html": [
       "<pre style=\"word-wrap: normal;white-space: pre;background: #fff0;line-height: 1.1;font-family: &quot;Courier New&quot;,Courier,monospace\">     ┌───┐      ░  ░ ┌───┐┌───┐     ┌───┐┌───┐ ░ \n",
       "q_0: ┤ H ├──────░──░─┤ H ├┤ X ├──■──┤ X ├┤ H ├─░─\n",
       "     ├───┤      ░  ░ ├───┤├───┤  │  ├───┤├───┤ ░ \n",
       "q_1: ┤ H ├──────░──░─┤ H ├┤ X ├──■──┤ X ├┤ H ├─░─\n",
       "     ├───┤      ░  ░ ├───┤├───┤  │  ├───┤├───┤ ░ \n",
       "q_2: ┤ H ├──────░──░─┤ H ├┤ X ├──■──┤ X ├┤ H ├─░─\n",
       "     ├───┤      ░  ░ ├───┤├───┤  │  ├───┤├───┤ ░ \n",
       "q_3: ┤ H ├──────░──░─┤ H ├┤ X ├──■──┤ X ├┤ H ├─░─\n",
       "     ├───┤┌───┐ ░  ░ ├───┤└───┘┌─┴─┐├───┤└───┘ ░ \n",
       "q_4: ┤ X ├┤ H ├─░──░─┤ H ├─────┤ X ├┤ H ├──────░─\n",
       "     └───┘└───┘ ░  ░ └───┘     └───┘└───┘      ░ </pre>"
      ],
      "text/plain": [
       "     ┌───┐      ░  ░ ┌───┐┌───┐     ┌───┐┌───┐ ░ \n",
       "q_0: ┤ H ├──────░──░─┤ H ├┤ X ├──■──┤ X ├┤ H ├─░─\n",
       "     ├───┤      ░  ░ ├───┤├───┤  │  ├───┤├───┤ ░ \n",
       "q_1: ┤ H ├──────░──░─┤ H ├┤ X ├──■──┤ X ├┤ H ├─░─\n",
       "     ├───┤      ░  ░ ├───┤├───┤  │  ├───┤├───┤ ░ \n",
       "q_2: ┤ H ├──────░──░─┤ H ├┤ X ├──■──┤ X ├┤ H ├─░─\n",
       "     ├───┤      ░  ░ ├───┤├───┤  │  ├───┤├───┤ ░ \n",
       "q_3: ┤ H ├──────░──░─┤ H ├┤ X ├──■──┤ X ├┤ H ├─░─\n",
       "     ├───┤┌───┐ ░  ░ ├───┤└───┘┌─┴─┐├───┤└───┘ ░ \n",
       "q_4: ┤ X ├┤ H ├─░──░─┤ H ├─────┤ X ├┤ H ├──────░─\n",
       "     └───┘└───┘ ░  ░ └───┘     └───┘└───┘      ░ "
      ]
     },
     "execution_count": 156,
     "metadata": {},
     "output_type": "execute_result"
    }
   ],
   "source": [
    "grover_circuit = diffusion(grover_circuit, range(query_qubits + 1))\n",
    "grover_circuit.draw()"
   ]
  },
  {
   "cell_type": "code",
   "execution_count": 168,
   "id": "7c7c253e-29cb-4d43-8590-2e7596cc6df0",
   "metadata": {},
   "outputs": [],
   "source": [
    "final_circuits = []\n",
    "\n",
    "for oracle in oracles:\n",
    "    grover_circuit = QuantumCircuit(query_qubits + 1, query_qubits)\n",
    "    grover_circuit = initialize_s(grover_circuit, range(query_qubits + 1))\n",
    "    \n",
    "    for ctrl_char in oracle['circuit']:\n",
    "        grover_circuit = compose_grover_oracle(grover_circuit, range(query_qubits + 1), ctrl_char)\n",
    "        \n",
    "    grover_circuit = diffusion(grover_circuit, range(query_qubits + 1))\n",
    "    \n",
    "    for ctrl_char in oracle['circuit']:\n",
    "        grover_circuit = compose_grover_oracle(grover_circuit, range(query_qubits + 1), ctrl_char)\n",
    "\n",
    "    grover_circuit = diffusion(grover_circuit, range(query_qubits + 1))\n",
    "    final_circuits.append(grover_circuit)"
   ]
  },
  {
   "cell_type": "code",
   "execution_count": 169,
   "id": "86401347-ee9d-4243-b010-3278c5f81475",
   "metadata": {},
   "outputs": [
    {
     "data": {
      "text/html": [
       "<pre style=\"word-wrap: normal;white-space: pre;background: #fff0;line-height: 1.1;font-family: &quot;Courier New&quot;,Courier,monospace\">     ┌───┐      ░           ┌───┐          ┌───┐┌───┐     ┌───┐           ░ »\n",
       "q_0: ┤ H ├──────░────────■──┤ X ├───────■──┤ X ├┤ X ├──■──┤ X ├──■────────░─»\n",
       "     ├───┤      ░        │  ├───┤       │  ├───┤└───┘  │  ├───┤  │  ┌───┐ ░ »\n",
       "q_1: ┤ H ├──────░────────■──┤ X ├───────■──┤ X ├───────■──┤ X ├──■──┤ X ├─░─»\n",
       "     ├───┤      ░ ┌───┐  │  ├───┤┌───┐  │  ├───┤       │  └───┘  │  └───┘ ░ »\n",
       "q_2: ┤ H ├──────░─┤ X ├──■──┤ X ├┤ X ├──■──┤ X ├───────■─────────■────────░─»\n",
       "     ├───┤      ░ └───┘  │  ├───┤└───┘  │  ├───┤       │         │        ░ »\n",
       "q_3: ┤ H ├──────░────────■──┤ X ├───────■──┤ X ├───────■─────────■────────░─»\n",
       "     ├───┤┌───┐ ░      ┌─┴─┐└───┘     ┌─┴─┐└───┘     ┌─┴─┐     ┌─┴─┐      ░ »\n",
       "q_4: ┤ X ├┤ H ├─░──────┤ X ├──────────┤ X ├──────────┤ X ├─────┤ X ├──────░─»\n",
       "     └───┘└───┘ ░      └───┘          └───┘          └───┘     └───┘      ░ »\n",
       "c: 4/═══════════════════════════════════════════════════════════════════════»\n",
       "                                                                            »\n",
       "«     ┌───┐┌───┐     ┌───┐┌───┐ ░           ┌───┐          ┌───┐┌───┐     ┌───┐»\n",
       "«q_0: ┤ H ├┤ X ├──■──┤ X ├┤ H ├─░────────■──┤ X ├───────■──┤ X ├┤ X ├──■──┤ X ├»\n",
       "«     ├───┤├───┤  │  ├───┤├───┤ ░        │  ├───┤       │  ├───┤└───┘  │  ├───┤»\n",
       "«q_1: ┤ H ├┤ X ├──■──┤ X ├┤ H ├─░────────■──┤ X ├───────■──┤ X ├───────■──┤ X ├»\n",
       "«     ├───┤├───┤  │  ├───┤├───┤ ░ ┌───┐  │  ├───┤┌───┐  │  ├───┤       │  └───┘»\n",
       "«q_2: ┤ H ├┤ X ├──■──┤ X ├┤ H ├─░─┤ X ├──■──┤ X ├┤ X ├──■──┤ X ├───────■───────»\n",
       "«     ├───┤├───┤  │  ├───┤├───┤ ░ └───┘  │  ├───┤└───┘  │  ├───┤       │       »\n",
       "«q_3: ┤ H ├┤ X ├──■──┤ X ├┤ H ├─░────────■──┤ X ├───────■──┤ X ├───────■───────»\n",
       "«     ├───┤└───┘┌─┴─┐├───┤└───┘ ░      ┌─┴─┐└───┘     ┌─┴─┐└───┘     ┌─┴─┐     »\n",
       "«q_4: ┤ H ├─────┤ X ├┤ H ├──────░──────┤ X ├──────────┤ X ├──────────┤ X ├─────»\n",
       "«     └───┘     └───┘└───┘      ░      └───┘          └───┘          └───┘     »\n",
       "«c: 4/═════════════════════════════════════════════════════════════════════════»\n",
       "«                                                                              »\n",
       "«                ░ ┌───┐┌───┐     ┌───┐┌───┐ ░ \n",
       "«q_0: ──■────────░─┤ H ├┤ X ├──■──┤ X ├┤ H ├─░─\n",
       "«       │  ┌───┐ ░ ├───┤├───┤  │  ├───┤├───┤ ░ \n",
       "«q_1: ──■──┤ X ├─░─┤ H ├┤ X ├──■──┤ X ├┤ H ├─░─\n",
       "«       │  └───┘ ░ ├───┤├───┤  │  ├───┤├───┤ ░ \n",
       "«q_2: ──■────────░─┤ H ├┤ X ├──■──┤ X ├┤ H ├─░─\n",
       "«       │        ░ ├───┤├───┤  │  ├───┤├───┤ ░ \n",
       "«q_3: ──■────────░─┤ H ├┤ X ├──■──┤ X ├┤ H ├─░─\n",
       "«     ┌─┴─┐      ░ ├───┤└───┘┌─┴─┐├───┤└───┘ ░ \n",
       "«q_4: ┤ X ├──────░─┤ H ├─────┤ X ├┤ H ├──────░─\n",
       "«     └───┘      ░ └───┘     └───┘└───┘      ░ \n",
       "«c: 4/═════════════════════════════════════════\n",
       "«                                              </pre>"
      ],
      "text/plain": [
       "     ┌───┐      ░           ┌───┐          ┌───┐┌───┐     ┌───┐           ░ »\n",
       "q_0: ┤ H ├──────░────────■──┤ X ├───────■──┤ X ├┤ X ├──■──┤ X ├──■────────░─»\n",
       "     ├───┤      ░        │  ├───┤       │  ├───┤└───┘  │  ├───┤  │  ┌───┐ ░ »\n",
       "q_1: ┤ H ├──────░────────■──┤ X ├───────■──┤ X ├───────■──┤ X ├──■──┤ X ├─░─»\n",
       "     ├───┤      ░ ┌───┐  │  ├───┤┌───┐  │  ├───┤       │  └───┘  │  └───┘ ░ »\n",
       "q_2: ┤ H ├──────░─┤ X ├──■──┤ X ├┤ X ├──■──┤ X ├───────■─────────■────────░─»\n",
       "     ├───┤      ░ └───┘  │  ├───┤└───┘  │  ├───┤       │         │        ░ »\n",
       "q_3: ┤ H ├──────░────────■──┤ X ├───────■──┤ X ├───────■─────────■────────░─»\n",
       "     ├───┤┌───┐ ░      ┌─┴─┐└───┘     ┌─┴─┐└───┘     ┌─┴─┐     ┌─┴─┐      ░ »\n",
       "q_4: ┤ X ├┤ H ├─░──────┤ X ├──────────┤ X ├──────────┤ X ├─────┤ X ├──────░─»\n",
       "     └───┘└───┘ ░      └───┘          └───┘          └───┘     └───┘      ░ »\n",
       "c: 4/═══════════════════════════════════════════════════════════════════════»\n",
       "                                                                            »\n",
       "«     ┌───┐┌───┐     ┌───┐┌───┐ ░           ┌───┐          ┌───┐┌───┐     ┌───┐»\n",
       "«q_0: ┤ H ├┤ X ├──■──┤ X ├┤ H ├─░────────■──┤ X ├───────■──┤ X ├┤ X ├──■──┤ X ├»\n",
       "«     ├───┤├───┤  │  ├───┤├───┤ ░        │  ├───┤       │  ├───┤└───┘  │  ├───┤»\n",
       "«q_1: ┤ H ├┤ X ├──■──┤ X ├┤ H ├─░────────■──┤ X ├───────■──┤ X ├───────■──┤ X ├»\n",
       "«     ├───┤├───┤  │  ├───┤├───┤ ░ ┌───┐  │  ├───┤┌───┐  │  ├───┤       │  └───┘»\n",
       "«q_2: ┤ H ├┤ X ├──■──┤ X ├┤ H ├─░─┤ X ├──■──┤ X ├┤ X ├──■──┤ X ├───────■───────»\n",
       "«     ├───┤├───┤  │  ├───┤├───┤ ░ └───┘  │  ├───┤└───┘  │  ├───┤       │       »\n",
       "«q_3: ┤ H ├┤ X ├──■──┤ X ├┤ H ├─░────────■──┤ X ├───────■──┤ X ├───────■───────»\n",
       "«     ├───┤└───┘┌─┴─┐├───┤└───┘ ░      ┌─┴─┐└───┘     ┌─┴─┐└───┘     ┌─┴─┐     »\n",
       "«q_4: ┤ H ├─────┤ X ├┤ H ├──────░──────┤ X ├──────────┤ X ├──────────┤ X ├─────»\n",
       "«     └───┘     └───┘└───┘      ░      └───┘          └───┘          └───┘     »\n",
       "«c: 4/═════════════════════════════════════════════════════════════════════════»\n",
       "«                                                                              »\n",
       "«                ░ ┌───┐┌───┐     ┌───┐┌───┐ ░ \n",
       "«q_0: ──■────────░─┤ H ├┤ X ├──■──┤ X ├┤ H ├─░─\n",
       "«       │  ┌───┐ ░ ├───┤├───┤  │  ├───┤├───┤ ░ \n",
       "«q_1: ──■──┤ X ├─░─┤ H ├┤ X ├──■──┤ X ├┤ H ├─░─\n",
       "«       │  └───┘ ░ ├───┤├───┤  │  ├───┤├───┤ ░ \n",
       "«q_2: ──■────────░─┤ H ├┤ X ├──■──┤ X ├┤ H ├─░─\n",
       "«       │        ░ ├───┤├───┤  │  ├───┤├───┤ ░ \n",
       "«q_3: ──■────────░─┤ H ├┤ X ├──■──┤ X ├┤ H ├─░─\n",
       "«     ┌─┴─┐      ░ ├───┤└───┘┌─┴─┐├───┤└───┘ ░ \n",
       "«q_4: ┤ X ├──────░─┤ H ├─────┤ X ├┤ H ├──────░─\n",
       "«     └───┘      ░ └───┘     └───┘└───┘      ░ \n",
       "«c: 4/═════════════════════════════════════════\n",
       "«                                              "
      ]
     },
     "execution_count": 169,
     "metadata": {},
     "output_type": "execute_result"
    }
   ],
   "source": [
    "final_circuits[0].draw()"
   ]
  },
  {
   "cell_type": "code",
   "execution_count": 170,
   "id": "9a9e1228-b4c7-4b77-b396-1b78bb01b601",
   "metadata": {},
   "outputs": [
    {
     "data": {
      "image/png": "[encoded data removed]",
      "text/plain": [
       "<Figure size 504x360 with 1 Axes>"
      ]
     },
     "execution_count": 170,
     "metadata": {},
     "output_type": "execute_result"
    }
   ],
   "source": [
    "grover_circuit = final_circuits[0]\n",
    "grover_circuit.measure(range(query_qubits), range(query_qubits))\n",
    "aer_sim = Aer.get_backend('aer_simulator', )\n",
    "qobj = assemble(grover_circuit)\n",
    "result = aer_sim.run(qobj).result()\n",
    "counts = result.get_counts()\n",
    "plot_histogram(counts)"
   ]
  },
  {
   "cell_type": "markdown",
   "id": "1500f10a-2611-43ed-8a8d-568057d8410b",
   "metadata": {},
   "source": [
    "## Solution proposal 2: Apply idea from Qiskit documentation"
   ]
  },
  {
   "cell_type": "markdown",
   "id": "b0ca4738-ae4d-4bc7-b5fa-9dd3ac98e76e",
   "metadata": {},
   "source": [
    "## Solution proposal 3: Apply ideas from paper Grover Adaptive Search for Constrained Polynomial Binary Optimization"
   ]
  },
  {
   "cell_type": "markdown",
   "id": "9806a000-5f3e-4a58-bf49-ff61becc3fef",
   "metadata": {},
   "source": [
    "### Encode constraints as QUBO"
   ]
  },
  {
   "cell_type": "markdown",
   "id": "07b01536-edd1-4f86-8e83-99960108efc9",
   "metadata": {},
   "source": [
    "### Solve QUBO with Grover search"
   ]
  },
  {
   "cell_type": "markdown",
   "id": "6306d8b5-26bb-42b1-8912-2a392797306d",
   "metadata": {},
   "source": [
    "## Solution proposal 4: Quantum machine learning – again"
   ]
  }
 ],
 "metadata": {
  "kernelspec": {
   "display_name": "Python 3 (ipykernel)",
   "language": "python",
   "name": "python3"
  },
  "language_info": {
   "codemirror_mode": {
    "name": "ipython",
    "version": 3
   },
   "file_extension": ".py",
   "mimetype": "text/x-python",
   "name": "python",
   "nbconvert_exporter": "python",
   "pygments_lexer": "ipython3",
   "version": "3.10.2"
  }
 },
 "nbformat": 4,
 "nbformat_minor": 5
}
