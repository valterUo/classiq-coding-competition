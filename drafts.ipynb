{
 "cells": [
  {
   "cell_type": "code",
   "execution_count": 1,
   "id": "5d70cf0c-73eb-45a8-8184-f3aa05e079cb",
   "metadata": {},
   "outputs": [],
   "source": [
    "# This code is part of Qiskit.\n",
    "#\n",
    "# (C) Copyright IBM 2017, 2020.\n",
    "#\n",
    "# This code is licensed under the Apache License, Version 2.0. You may\n",
    "# obtain a copy of this license in the LICENSE.txt file in the root directory\n",
    "# of this source tree or at http://www.apache.org/licenses/LICENSE-2.0.\n",
    "#\n",
    "# Any modifications or derivative works of this code must retain this\n",
    "# copyright notice, and modified files need to carry a notice indicating\n",
    "# that they have been altered from the originals.\n",
    "\n",
    "def required_result_qubits(quadratic, linear, offset):\n",
    "    \n",
    "    bounds = []  # bounds = [minimum value, maximum value]\n",
    "    for condition in [lambda x: x < 0, lambda x: x > 0]:\n",
    "        bound = 0\n",
    "        bound += sum(sum(q_ij for q_ij in q_i if condition(q_ij)) for q_i in quadratic)\n",
    "        bound += sum(l_i for l_i in linear if condition(l_i))\n",
    "        bound += offset if condition(offset) else 0\n",
    "        bounds.append(bound)\n",
    "\n",
    "    # the minimum number of qubits is the number of qubits needed to represent\n",
    "    # the minimum/maximum value plus one sign qubit\n",
    "    num_qubits_for_min = int(np.ceil(np.log2(max(-bounds[0], 1))))\n",
    "    num_qubits_for_max = int(np.ceil(np.log2(bounds[1] + 1)))\n",
    "    num_result_qubits = 1 + max(num_qubits_for_min, num_qubits_for_max)\n",
    "\n",
    "    return num_result_qubits"
   ]
  },
  {
   "cell_type": "code",
   "execution_count": null,
   "id": "3b01d190-f136-4a19-90b0-d98dfec244d9",
   "metadata": {},
   "outputs": [],
   "source": [
    "from qiskit.circuit.library import QFT\n",
    "\n",
    "linear = []\n",
    "for var in bqm.variables:\n",
    "    linear.append(bqm.get_linear(var))\n",
    "quadratic = bqm.to_numpy_matrix(variable_order=bqm.variables)\n",
    "offset = bqm.offset\n",
    "\n",
    "n = np.max([1, len(linear), len(quadratic)])\n",
    "m = required_result_qubits(quadratic, linear, offset)\n",
    "\n",
    "print(\"Input qubits: \", n)\n",
    "print(\"Result qubits: \", m)\n",
    "\n",
    "def apply_state_preparation_A(circuit, n, m, qr_input, qr_result):\n",
    "    scaling = np.pi * 2 ** (1 - m)\n",
    "    qr_result = qr_result[:-1]\n",
    "    circuit.h(qr_result)\n",
    "    circuit.h(qr_input)\n",
    "\n",
    "    # constant coefficient\n",
    "    if offset != 0:\n",
    "        for i, q_i in enumerate(qr_result):\n",
    "            circuit.p(scaling * 2**i * offset, q_i)\n",
    "\n",
    "    # the linear part consists of the vector and the diagonal of the\n",
    "    # matrix, since x_i * x_i = x_i, as x_i is a binary variable\n",
    "    for j in range(n):\n",
    "        value = linear[j] if linear is not None else 0\n",
    "        value += quadratic[j][j] if quadratic is not None else 0\n",
    "        if value != 0:\n",
    "            for i, q_i in enumerate(qr_result):\n",
    "                circuit.cp(scaling * 2**i * value, qr_input[j], q_i)\n",
    "\n",
    "    # the quadratic part adds A_ij and A_ji as x_i x_j == x_j x_i\n",
    "    for j in range(n):\n",
    "        for k in range(j + 1, n):\n",
    "            value = quadratic[j][k] + quadratic[k][j]\n",
    "            if value != 0:\n",
    "                for i, q_i in enumerate(qr_result):\n",
    "                    circuit.mcp(scaling * 2**i * value, [qr_input[j], qr_input[k]], q_i)\n",
    "\n",
    "    # add the inverse QFT\n",
    "    iqft = QFT(m, do_swaps=False).inverse().reverse_bits()\n",
    "    circuit.compose(iqft, qubits=qr_result[:], inplace=True)\n",
    "    \n",
    "    return circuit"
   ]
  },
  {
   "cell_type": "markdown",
   "id": "aa706752-422f-4deb-8896-655e72084ea1",
   "metadata": {},
   "source": [
    "The output circuit is very long again but it is visualized in `kakuro_gas.txt` file."
   ]
  },
  {
   "cell_type": "code",
   "execution_count": null,
   "id": "c3bc0547-997e-43d6-a476-fd7d7ead6282",
   "metadata": {},
   "outputs": [],
   "source": [
    "#%%capture\n",
    "#circuit.draw(filename = 'kakuro_gas.txt', fold = 250)"
   ]
  },
  {
   "cell_type": "markdown",
   "id": "c886f12c-4bbf-41cd-97ad-b469220781b0",
   "metadata": {
    "tags": []
   },
   "source": [
    "#### Oracle operator $O$"
   ]
  },
  {
   "cell_type": "code",
   "execution_count": null,
   "id": "6ee3add9-8a49-438d-8863-2d47c9c509c1",
   "metadata": {},
   "outputs": [],
   "source": [
    "def get_oracle_O(n, m):\n",
    "    # Build negative value oracle O.\n",
    "    \n",
    "    qr_key_value = QuantumRegister(n + m)\n",
    "    oracle_bit = QuantumRegister(1, \"oracle\")\n",
    "    oracle = QuantumCircuit(qr_key_value, oracle_bit)\n",
    "    oracle.z(n)  # recognize negative values.\n",
    "\n",
    "    def is_good_state(measurement):\n",
    "        \"\"\"Check whether ``measurement`` is a good state or not.\"\"\"\n",
    "        value = measurement[\n",
    "            n : n + m\n",
    "        ]\n",
    "        return value[0] == \"1\"\n",
    "\n",
    "    return oracle, is_good_state\n"
   ]
  },
  {
   "cell_type": "markdown",
   "id": "75c3259d-d581-43c8-875a-c98e62dce3e4",
   "metadata": {},
   "source": [
    "#### Grover's algorithm"
   ]
  },
  {
   "cell_type": "code",
   "execution_count": null,
   "id": "f3fd2e35-5bc3-4660-ac53-d6d593ecea91",
   "metadata": {},
   "outputs": [],
   "source": [
    "def apply_GAS(n, m):\n",
    "    qr_input = QuantumRegister(n, name = 'var')\n",
    "    qr_result = QuantumRegister(m + 1, 'res')\n",
    "    circuit = QuantumCircuit(qr_input, qr_result)\n",
    "    circuit = apply_state_preparation_A(circuit, n, m, qr_input, qr_result)\n",
    "    oracle, is_good_state = get_oracle_O(n, m)\n",
    "    circuit.compose(oracle, inplace=True)\n",
    "    return circuit\n",
    "    "
   ]
  },
  {
   "cell_type": "code",
   "execution_count": null,
   "id": "135eca54-7e69-4ad3-9971-07cbbc3745fb",
   "metadata": {},
   "outputs": [],
   "source": [
    "%%capture\n",
    "circuit = apply_GAS(n, m)\n",
    "circuit.draw(filename = 'kakuro_gas.txt', fold = 250)"
   ]
  },
  {
   "cell_type": "code",
   "execution_count": null,
   "id": "25765015-119c-4f1a-9ed5-13e93e7963f1",
   "metadata": {},
   "outputs": [],
   "source": [
    "print('Gate counts: ', circuit.count_ops())\n",
    "print('Depth: ', circuit.depth())"
   ]
  },
  {
   "cell_type": "code",
   "execution_count": null,
   "id": "070b1f59-53c1-4b53-8774-aefa4a2b3f06",
   "metadata": {},
   "outputs": [],
   "source": [
    "from qiskit.utils import algorithm_globals\n",
    "from qiskit.algorithms import AmplificationProblem, Grover\n",
    "\n",
    "qr_input = QuantumRegister(n, name = 'var')\n",
    "qr_result = QuantumRegister(m + 1, 'res')\n",
    "circuit = QuantumCircuit(qr_input, qr_result)\n",
    "circuit = apply_state_preparation_A(circuit, n, m, qr_input, qr_result)\n",
    "\n",
    "oracle, is_good_state = get_oracle_O(n, m)\n",
    "\n",
    "measurement = False #not self.quantum_instance.is_statevector\n",
    "\n",
    "rotation_count = algorithm_globals.random.integers(0, 1)\n",
    "\n",
    "amp_problem = AmplificationProblem(\n",
    "    oracle=oracle,\n",
    "    state_preparation=circuit,\n",
    "    is_good_state=is_good_state,\n",
    ")\n",
    "\n",
    "grover = Grover()\n",
    "\n",
    "circuit = grover.construct_circuit(\n",
    "    problem=amp_problem, power=rotation_count, measurement=measurement\n",
    ")"
   ]
  },
  {
   "cell_type": "code",
   "execution_count": null,
   "id": "88532b37-dafa-490e-aeef-332771fbbab9",
   "metadata": {},
   "outputs": [],
   "source": [
    "%%capture\n",
    "circuit.draw(filename = 'kakuro_gas_full.txt', fold = 250)"
   ]
  },
  {
   "cell_type": "code",
   "execution_count": null,
   "id": "9d4c4a80-a35e-483c-9f9a-b663e70bfc8b",
   "metadata": {},
   "outputs": [],
   "source": [
    "print('Gate counts: ', circuit.count_ops())\n",
    "print('Depth: ', circuit.depth())"
   ]
  },
  {
   "cell_type": "code",
   "execution_count": null,
   "id": "cc222659-fcc1-4aea-a769-6bc395dedcd3",
   "metadata": {},
   "outputs": [],
   "source": [
    "outcome = self._measure(circuit)\n",
    "k = int(outcome[0:n_key], 2)\n",
    "v = outcome[n_key : n_key + n_value]\n",
    "int_v = self._bin_to_int(v, n_value) + threshold\n",
    "logger.info(\"Outcome: %s\", outcome)\n",
    "logger.info(\"Value Q(x): %s\", int_v)"
   ]
  },
  {
   "cell_type": "markdown",
   "id": "22ea2890-cb43-4371-835d-90d099ba2cff",
   "metadata": {},
   "source": [
    "#### Run whole algorithm"
   ]
  },
  {
   "cell_type": "code",
   "execution_count": null,
   "id": "42951eca-7788-47ba-94f3-e9071caa8f97",
   "metadata": {
    "jp-MarkdownHeadingCollapsed": true,
    "tags": []
   },
   "outputs": [],
   "source": [
    "import math\n",
    "\n",
    "# Variables for tracking the optimum.\n",
    "optimum_found = False\n",
    "optimum_key = math.inf\n",
    "optimum_value = math.inf\n",
    "threshold = 0\n",
    "n_key = len(bqm.variables)\n",
    "n_value = 4\n",
    "\n",
    "# Variables for tracking the solutions encountered.\n",
    "num_solutions = 2**n_key\n",
    "keys_measured = []\n",
    "\n",
    "# Variables for result object.\n",
    "operation_count = {}\n",
    "iteration = 0\n",
    "\n",
    "# Variables for stopping if we've hit the rotation max.\n",
    "rotations = 0\n",
    "max_rotations = int(np.ceil(100 * np.pi / 4))\n",
    "\n",
    "# Initialize oracle helper object.\n",
    "qr_key_value = QuantumRegister(n_key + n_value)\n",
    "#orig_constant = problem_.objective.constant\n",
    "measurement = not self.quantum_instance.is_statevector\n",
    "oracle, is_good_state = get_oracle_O(n_key, n_value)\n",
    "\n",
    "\n",
    "while not optimum_found:\n",
    "    m = 1\n",
    "    improvement_found = False\n",
    "\n",
    "    # Get oracle O and the state preparation operator A for the current threshold.\n",
    "    problem_.objective.constant = orig_constant - threshold\n",
    "    a_operator = self._get_a_operator(qr_key_value, problem_)\n",
    "\n",
    "    # Iterate until we measure a negative.\n",
    "    loops_with_no_improvement = 0\n",
    "    while not improvement_found:\n",
    "        # Determine the number of rotations.\n",
    "        loops_with_no_improvement += 1\n",
    "        rotation_count = algorithm_globals.random.integers(0, m)\n",
    "        rotations += rotation_count\n",
    "        # Apply Grover's Algorithm to find values below the threshold.\n",
    "        # TODO: Utilize Grover's incremental feature - requires changes to Grover.\n",
    "        \n",
    "        \n",
    "        \n",
    "        \n",
    "        #amp_problem = AmplificationProblem(\n",
    "        #    oracle=oracle,\n",
    "        #    state_preparation=a_operator,\n",
    "        #    is_good_state=is_good_state,\n",
    "        #)\n",
    "        #grover = Grover()\n",
    "        #circuit = grover.construct_circuit(\n",
    "        #    problem=amp_problem, power=rotation_count, measurement=measurement\n",
    "        #)"
   ]
  }
 ],
 "metadata": {
  "kernelspec": {
   "display_name": "Python 3 (ipykernel)",
   "language": "python",
   "name": "python3"
  },
  "language_info": {
   "codemirror_mode": {
    "name": "ipython",
    "version": 3
   },
   "file_extension": ".py",
   "mimetype": "text/x-python",
   "name": "python",
   "nbconvert_exporter": "python",
   "pygments_lexer": "ipython3",
   "version": "3.10.2"
  }
 },
 "nbformat": 4,
 "nbformat_minor": 5
}
